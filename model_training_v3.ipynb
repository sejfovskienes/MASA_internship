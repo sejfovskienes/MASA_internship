{
  "nbformat": 4,
  "nbformat_minor": 0,
  "metadata": {
    "colab": {
      "provenance": []
    },
    "kernelspec": {
      "name": "python3",
      "display_name": "Python 3"
    },
    "language_info": {
      "name": "python"
    }
  },
  "cells": [
    {
      "cell_type": "markdown",
      "source": [
        "### Loading dataset"
      ],
      "metadata": {
        "id": "bhXZtQcMbWMp"
      }
    },
    {
      "cell_type": "code",
      "execution_count": 6,
      "metadata": {
        "id": "CTi3hlpraV4V"
      },
      "outputs": [],
      "source": [
        "import pandas as pd"
      ]
    },
    {
      "cell_type": "code",
      "source": [
        "path = '/content/reformatted_stock_tweets.csv'\n",
        "\n",
        "data = pd.read_csv(path)\n",
        "\n",
        "data.head()"
      ],
      "metadata": {
        "colab": {
          "base_uri": "https://localhost:8080/",
          "height": 206
        },
        "id": "2SgGYkazbFRQ",
        "outputId": "55212af8-f29f-42e6-dc3b-c05f067fa683"
      },
      "execution_count": 7,
      "outputs": [
        {
          "output_type": "execute_result",
          "data": {
            "text/plain": [
              "   Unnamed: 0       Date                                              Tweet  \\\n",
              "0           0  9/29/2022  Mainstream media has done an amazing job at br...   \n",
              "1           1  9/29/2022  Tesla delivery estimates are at around 364k fr...   \n",
              "2           2  9/29/2022  3/ Even if I include 63.0M unvested RSUs as of...   \n",
              "3           3  9/29/2022  @RealDanODowd @WholeMarsBlog @Tesla Hahaha why...   \n",
              "4           4  9/29/2022  @RealDanODowd @Tesla Stop trying to kill kids,...   \n",
              "\n",
              "  Stock Name Company Name       Close  \n",
              "0       TSLA  Tesla, Inc.  268.209992  \n",
              "1       TSLA  Tesla, Inc.  268.209992  \n",
              "2       TSLA  Tesla, Inc.  268.209992  \n",
              "3       TSLA  Tesla, Inc.  268.209992  \n",
              "4       TSLA  Tesla, Inc.  268.209992  "
            ],
            "text/html": [
              "\n",
              "  <div id=\"df-a1493577-0e96-4fad-98a6-89981e9961eb\" class=\"colab-df-container\">\n",
              "    <div>\n",
              "<style scoped>\n",
              "    .dataframe tbody tr th:only-of-type {\n",
              "        vertical-align: middle;\n",
              "    }\n",
              "\n",
              "    .dataframe tbody tr th {\n",
              "        vertical-align: top;\n",
              "    }\n",
              "\n",
              "    .dataframe thead th {\n",
              "        text-align: right;\n",
              "    }\n",
              "</style>\n",
              "<table border=\"1\" class=\"dataframe\">\n",
              "  <thead>\n",
              "    <tr style=\"text-align: right;\">\n",
              "      <th></th>\n",
              "      <th>Unnamed: 0</th>\n",
              "      <th>Date</th>\n",
              "      <th>Tweet</th>\n",
              "      <th>Stock Name</th>\n",
              "      <th>Company Name</th>\n",
              "      <th>Close</th>\n",
              "    </tr>\n",
              "  </thead>\n",
              "  <tbody>\n",
              "    <tr>\n",
              "      <th>0</th>\n",
              "      <td>0</td>\n",
              "      <td>9/29/2022</td>\n",
              "      <td>Mainstream media has done an amazing job at br...</td>\n",
              "      <td>TSLA</td>\n",
              "      <td>Tesla, Inc.</td>\n",
              "      <td>268.209992</td>\n",
              "    </tr>\n",
              "    <tr>\n",
              "      <th>1</th>\n",
              "      <td>1</td>\n",
              "      <td>9/29/2022</td>\n",
              "      <td>Tesla delivery estimates are at around 364k fr...</td>\n",
              "      <td>TSLA</td>\n",
              "      <td>Tesla, Inc.</td>\n",
              "      <td>268.209992</td>\n",
              "    </tr>\n",
              "    <tr>\n",
              "      <th>2</th>\n",
              "      <td>2</td>\n",
              "      <td>9/29/2022</td>\n",
              "      <td>3/ Even if I include 63.0M unvested RSUs as of...</td>\n",
              "      <td>TSLA</td>\n",
              "      <td>Tesla, Inc.</td>\n",
              "      <td>268.209992</td>\n",
              "    </tr>\n",
              "    <tr>\n",
              "      <th>3</th>\n",
              "      <td>3</td>\n",
              "      <td>9/29/2022</td>\n",
              "      <td>@RealDanODowd @WholeMarsBlog @Tesla Hahaha why...</td>\n",
              "      <td>TSLA</td>\n",
              "      <td>Tesla, Inc.</td>\n",
              "      <td>268.209992</td>\n",
              "    </tr>\n",
              "    <tr>\n",
              "      <th>4</th>\n",
              "      <td>4</td>\n",
              "      <td>9/29/2022</td>\n",
              "      <td>@RealDanODowd @Tesla Stop trying to kill kids,...</td>\n",
              "      <td>TSLA</td>\n",
              "      <td>Tesla, Inc.</td>\n",
              "      <td>268.209992</td>\n",
              "    </tr>\n",
              "  </tbody>\n",
              "</table>\n",
              "</div>\n",
              "    <div class=\"colab-df-buttons\">\n",
              "\n",
              "  <div class=\"colab-df-container\">\n",
              "    <button class=\"colab-df-convert\" onclick=\"convertToInteractive('df-a1493577-0e96-4fad-98a6-89981e9961eb')\"\n",
              "            title=\"Convert this dataframe to an interactive table.\"\n",
              "            style=\"display:none;\">\n",
              "\n",
              "  <svg xmlns=\"http://www.w3.org/2000/svg\" height=\"24px\" viewBox=\"0 -960 960 960\">\n",
              "    <path d=\"M120-120v-720h720v720H120Zm60-500h600v-160H180v160Zm220 220h160v-160H400v160Zm0 220h160v-160H400v160ZM180-400h160v-160H180v160Zm440 0h160v-160H620v160ZM180-180h160v-160H180v160Zm440 0h160v-160H620v160Z\"/>\n",
              "  </svg>\n",
              "    </button>\n",
              "\n",
              "  <style>\n",
              "    .colab-df-container {\n",
              "      display:flex;\n",
              "      gap: 12px;\n",
              "    }\n",
              "\n",
              "    .colab-df-convert {\n",
              "      background-color: #E8F0FE;\n",
              "      border: none;\n",
              "      border-radius: 50%;\n",
              "      cursor: pointer;\n",
              "      display: none;\n",
              "      fill: #1967D2;\n",
              "      height: 32px;\n",
              "      padding: 0 0 0 0;\n",
              "      width: 32px;\n",
              "    }\n",
              "\n",
              "    .colab-df-convert:hover {\n",
              "      background-color: #E2EBFA;\n",
              "      box-shadow: 0px 1px 2px rgba(60, 64, 67, 0.3), 0px 1px 3px 1px rgba(60, 64, 67, 0.15);\n",
              "      fill: #174EA6;\n",
              "    }\n",
              "\n",
              "    .colab-df-buttons div {\n",
              "      margin-bottom: 4px;\n",
              "    }\n",
              "\n",
              "    [theme=dark] .colab-df-convert {\n",
              "      background-color: #3B4455;\n",
              "      fill: #D2E3FC;\n",
              "    }\n",
              "\n",
              "    [theme=dark] .colab-df-convert:hover {\n",
              "      background-color: #434B5C;\n",
              "      box-shadow: 0px 1px 3px 1px rgba(0, 0, 0, 0.15);\n",
              "      filter: drop-shadow(0px 1px 2px rgba(0, 0, 0, 0.3));\n",
              "      fill: #FFFFFF;\n",
              "    }\n",
              "  </style>\n",
              "\n",
              "    <script>\n",
              "      const buttonEl =\n",
              "        document.querySelector('#df-a1493577-0e96-4fad-98a6-89981e9961eb button.colab-df-convert');\n",
              "      buttonEl.style.display =\n",
              "        google.colab.kernel.accessAllowed ? 'block' : 'none';\n",
              "\n",
              "      async function convertToInteractive(key) {\n",
              "        const element = document.querySelector('#df-a1493577-0e96-4fad-98a6-89981e9961eb');\n",
              "        const dataTable =\n",
              "          await google.colab.kernel.invokeFunction('convertToInteractive',\n",
              "                                                    [key], {});\n",
              "        if (!dataTable) return;\n",
              "\n",
              "        const docLinkHtml = 'Like what you see? Visit the ' +\n",
              "          '<a target=\"_blank\" href=https://colab.research.google.com/notebooks/data_table.ipynb>data table notebook</a>'\n",
              "          + ' to learn more about interactive tables.';\n",
              "        element.innerHTML = '';\n",
              "        dataTable['output_type'] = 'display_data';\n",
              "        await google.colab.output.renderOutput(dataTable, element);\n",
              "        const docLink = document.createElement('div');\n",
              "        docLink.innerHTML = docLinkHtml;\n",
              "        element.appendChild(docLink);\n",
              "      }\n",
              "    </script>\n",
              "  </div>\n",
              "\n",
              "\n",
              "<div id=\"df-b0cbd492-cdb5-4105-9e56-7f717f08d4e7\">\n",
              "  <button class=\"colab-df-quickchart\" onclick=\"quickchart('df-b0cbd492-cdb5-4105-9e56-7f717f08d4e7')\"\n",
              "            title=\"Suggest charts\"\n",
              "            style=\"display:none;\">\n",
              "\n",
              "<svg xmlns=\"http://www.w3.org/2000/svg\" height=\"24px\"viewBox=\"0 0 24 24\"\n",
              "     width=\"24px\">\n",
              "    <g>\n",
              "        <path d=\"M19 3H5c-1.1 0-2 .9-2 2v14c0 1.1.9 2 2 2h14c1.1 0 2-.9 2-2V5c0-1.1-.9-2-2-2zM9 17H7v-7h2v7zm4 0h-2V7h2v10zm4 0h-2v-4h2v4z\"/>\n",
              "    </g>\n",
              "</svg>\n",
              "  </button>\n",
              "\n",
              "<style>\n",
              "  .colab-df-quickchart {\n",
              "      --bg-color: #E8F0FE;\n",
              "      --fill-color: #1967D2;\n",
              "      --hover-bg-color: #E2EBFA;\n",
              "      --hover-fill-color: #174EA6;\n",
              "      --disabled-fill-color: #AAA;\n",
              "      --disabled-bg-color: #DDD;\n",
              "  }\n",
              "\n",
              "  [theme=dark] .colab-df-quickchart {\n",
              "      --bg-color: #3B4455;\n",
              "      --fill-color: #D2E3FC;\n",
              "      --hover-bg-color: #434B5C;\n",
              "      --hover-fill-color: #FFFFFF;\n",
              "      --disabled-bg-color: #3B4455;\n",
              "      --disabled-fill-color: #666;\n",
              "  }\n",
              "\n",
              "  .colab-df-quickchart {\n",
              "    background-color: var(--bg-color);\n",
              "    border: none;\n",
              "    border-radius: 50%;\n",
              "    cursor: pointer;\n",
              "    display: none;\n",
              "    fill: var(--fill-color);\n",
              "    height: 32px;\n",
              "    padding: 0;\n",
              "    width: 32px;\n",
              "  }\n",
              "\n",
              "  .colab-df-quickchart:hover {\n",
              "    background-color: var(--hover-bg-color);\n",
              "    box-shadow: 0 1px 2px rgba(60, 64, 67, 0.3), 0 1px 3px 1px rgba(60, 64, 67, 0.15);\n",
              "    fill: var(--button-hover-fill-color);\n",
              "  }\n",
              "\n",
              "  .colab-df-quickchart-complete:disabled,\n",
              "  .colab-df-quickchart-complete:disabled:hover {\n",
              "    background-color: var(--disabled-bg-color);\n",
              "    fill: var(--disabled-fill-color);\n",
              "    box-shadow: none;\n",
              "  }\n",
              "\n",
              "  .colab-df-spinner {\n",
              "    border: 2px solid var(--fill-color);\n",
              "    border-color: transparent;\n",
              "    border-bottom-color: var(--fill-color);\n",
              "    animation:\n",
              "      spin 1s steps(1) infinite;\n",
              "  }\n",
              "\n",
              "  @keyframes spin {\n",
              "    0% {\n",
              "      border-color: transparent;\n",
              "      border-bottom-color: var(--fill-color);\n",
              "      border-left-color: var(--fill-color);\n",
              "    }\n",
              "    20% {\n",
              "      border-color: transparent;\n",
              "      border-left-color: var(--fill-color);\n",
              "      border-top-color: var(--fill-color);\n",
              "    }\n",
              "    30% {\n",
              "      border-color: transparent;\n",
              "      border-left-color: var(--fill-color);\n",
              "      border-top-color: var(--fill-color);\n",
              "      border-right-color: var(--fill-color);\n",
              "    }\n",
              "    40% {\n",
              "      border-color: transparent;\n",
              "      border-right-color: var(--fill-color);\n",
              "      border-top-color: var(--fill-color);\n",
              "    }\n",
              "    60% {\n",
              "      border-color: transparent;\n",
              "      border-right-color: var(--fill-color);\n",
              "    }\n",
              "    80% {\n",
              "      border-color: transparent;\n",
              "      border-right-color: var(--fill-color);\n",
              "      border-bottom-color: var(--fill-color);\n",
              "    }\n",
              "    90% {\n",
              "      border-color: transparent;\n",
              "      border-bottom-color: var(--fill-color);\n",
              "    }\n",
              "  }\n",
              "</style>\n",
              "\n",
              "  <script>\n",
              "    async function quickchart(key) {\n",
              "      const quickchartButtonEl =\n",
              "        document.querySelector('#' + key + ' button');\n",
              "      quickchartButtonEl.disabled = true;  // To prevent multiple clicks.\n",
              "      quickchartButtonEl.classList.add('colab-df-spinner');\n",
              "      try {\n",
              "        const charts = await google.colab.kernel.invokeFunction(\n",
              "            'suggestCharts', [key], {});\n",
              "      } catch (error) {\n",
              "        console.error('Error during call to suggestCharts:', error);\n",
              "      }\n",
              "      quickchartButtonEl.classList.remove('colab-df-spinner');\n",
              "      quickchartButtonEl.classList.add('colab-df-quickchart-complete');\n",
              "    }\n",
              "    (() => {\n",
              "      let quickchartButtonEl =\n",
              "        document.querySelector('#df-b0cbd492-cdb5-4105-9e56-7f717f08d4e7 button');\n",
              "      quickchartButtonEl.style.display =\n",
              "        google.colab.kernel.accessAllowed ? 'block' : 'none';\n",
              "    })();\n",
              "  </script>\n",
              "</div>\n",
              "    </div>\n",
              "  </div>\n"
            ],
            "application/vnd.google.colaboratory.intrinsic+json": {
              "type": "dataframe",
              "variable_name": "data",
              "summary": "{\n  \"name\": \"data\",\n  \"rows\": 80793,\n  \"fields\": [\n    {\n      \"column\": \"Unnamed: 0\",\n      \"properties\": {\n        \"dtype\": \"number\",\n        \"std\": 23323,\n        \"min\": 0,\n        \"max\": 80792,\n        \"num_unique_values\": 80793,\n        \"samples\": [\n          39068,\n          69282,\n          42501\n        ],\n        \"semantic_type\": \"\",\n        \"description\": \"\"\n      }\n    },\n    {\n      \"column\": \"Date\",\n      \"properties\": {\n        \"dtype\": \"object\",\n        \"num_unique_values\": 365,\n        \"samples\": [\n          \"3/20/2022\",\n          \"8/27/2022\",\n          \"9/14/2022\"\n        ],\n        \"semantic_type\": \"\",\n        \"description\": \"\"\n      }\n    },\n    {\n      \"column\": \"Tweet\",\n      \"properties\": {\n        \"dtype\": \"string\",\n        \"num_unique_values\": 64479,\n        \"samples\": [\n          \"Yesterday, I went to Beijing Lingshan Mountain and met more than 50 Tesla model y and 3 along the way, so it was a good feeling!\\ud83e\\udd23\\ud83e\\udd23\\r\\n$TSLA #tesla\",\n          \"$NFLX This is what happens when you tweet about military strategy in Ukraine all day instead of focusing on preserving and growing capital for your shareholders. https://t.co/Umd0BLJLgg\",\n          \"Weekly #CANSLIM scan powered by @MarketSmith &amp; Sorted by 3 Mo Relative Strength\\r\\n\\r\\n1. $NVDA\\r\\n2. $ENPH \\r\\n3. $TTD\\r\\n4. $PUBM\\r\\n5. $AMD\\r\\n6. $MLI\\r\\n7. $BLDR \\r\\n8. $LSCC\\r\\n9. $QFIN\\r\\n10. $ATKR\\r\\n11. $FOCS\\r\\n12. $UCTT\\r\\n13. $BKE\\r\\n14. $HLI\\r\\n15. $SITE\\r\\n16. $UFPI\\r\\n17. $INMD\\r\\n18. $CROX\\r\\n19. $ZI\\r\\n20. $AAWW\\r\\n\\r\\n#IBDPartner https://t.co/PdaoZUae3r\"\n        ],\n        \"semantic_type\": \"\",\n        \"description\": \"\"\n      }\n    },\n    {\n      \"column\": \"Stock Name\",\n      \"properties\": {\n        \"dtype\": \"category\",\n        \"num_unique_values\": 25,\n        \"samples\": [\n          \"NFLX\",\n          \"INTC\",\n          \"TSLA\"\n        ],\n        \"semantic_type\": \"\",\n        \"description\": \"\"\n      }\n    },\n    {\n      \"column\": \"Company Name\",\n      \"properties\": {\n        \"dtype\": \"category\",\n        \"num_unique_values\": 25,\n        \"samples\": [\n          \"Netflix, Inc.\",\n          \"Intel Corporation\",\n          \"Tesla, Inc.\"\n        ],\n        \"semantic_type\": \"\",\n        \"description\": \"\"\n      }\n    },\n    {\n      \"column\": \"Close\",\n      \"properties\": {\n        \"dtype\": \"number\",\n        \"std\": 106.13162977722875,\n        \"min\": 11.13000011,\n        \"max\": 691.6900024,\n        \"num_unique_values\": 3947,\n        \"samples\": [\n          139.8399963,\n          73.01000214,\n          172.3899994\n        ],\n        \"semantic_type\": \"\",\n        \"description\": \"\"\n      }\n    }\n  ]\n}"
            }
          },
          "metadata": {},
          "execution_count": 7
        }
      ]
    },
    {
      "cell_type": "markdown",
      "source": [
        "### Pipeline for sentiment analysis\n"
      ],
      "metadata": {
        "id": "EySt_Q15bZy2"
      }
    },
    {
      "cell_type": "code",
      "source": [
        "from transformers import AutoTokenizer, AutoModelForSequenceClassification, pipeline\n",
        "import torch"
      ],
      "metadata": {
        "id": "f-uYmGmAbLTo"
      },
      "execution_count": 8,
      "outputs": []
    },
    {
      "cell_type": "code",
      "source": [
        "# sentiment-analysis pipeline\n",
        "sentiment_pipeline = pipeline(\"sentiment-analysis\", model=\"mrm8488/distilroberta-finetuned-financial-news-sentiment-analysis\")\n",
        "\n",
        "# Apply sentiment analysis to the 'Tweet' column and create a 'Predictions' column\n",
        "data['Predictions'] = data['Tweet'].apply(lambda tweet: sentiment_pipeline(tweet)[0]['label'])\n",
        "data.head()\n",
        "# Save the results\n",
        "# data.to_csv('/content/drive/MyDrive/praksa_manu/distilroberta_model_training/dataset_with_predictions.csv', index=False)\n"
      ],
      "metadata": {
        "collapsed": true,
        "id": "RRiRltesfaNs"
      },
      "execution_count": null,
      "outputs": []
    },
    {
      "cell_type": "markdown",
      "source": [
        "It appears a problem here. The dataset is too big and when i try to predict the data my RAM memory is filling up and the session is aborting. As a solution to this I will try to read the dataset partially and predict the data like that."
      ],
      "metadata": {
        "id": "sZCxQvRHh5Gu"
      }
    },
    {
      "cell_type": "markdown",
      "source": [
        "### Predicting the data partially\n"
      ],
      "metadata": {
        "id": "o2FfGUlYiLkl"
      }
    },
    {
      "cell_type": "code",
      "source": [
        "import numpy as np"
      ],
      "metadata": {
        "id": "qZnrlJEwjQVU"
      },
      "execution_count": null,
      "outputs": []
    },
    {
      "cell_type": "code",
      "source": [
        "chunk_size = 1\n",
        "\n",
        "data_chunks = np.array_split(data, len(data) // chunk_size + 1)"
      ],
      "metadata": {
        "colab": {
          "base_uri": "https://localhost:8080/"
        },
        "id": "Z_BQmdv7gRS8",
        "outputId": "b044dd65-20ce-46fb-e486-d28797b1f20d"
      },
      "execution_count": null,
      "outputs": [
        {
          "output_type": "stream",
          "name": "stderr",
          "text": [
            "/usr/local/lib/python3.10/dist-packages/numpy/core/fromnumeric.py:59: FutureWarning: 'DataFrame.swapaxes' is deprecated and will be removed in a future version. Please use 'DataFrame.transpose' instead.\n",
            "  return bound(*args, **kwds)\n"
          ]
        }
      ]
    },
    {
      "cell_type": "code",
      "source": [
        "chunk_1 = data_chunks[0]\n",
        "print(chunk_1.head())"
      ],
      "metadata": {
        "colab": {
          "base_uri": "https://localhost:8080/"
        },
        "id": "8UsfAsNVjY8K",
        "outputId": "37239cef-da2c-4fae-c107-08af93c7684d"
      },
      "execution_count": null,
      "outputs": [
        {
          "output_type": "stream",
          "name": "stdout",
          "text": [
            "                                               Tweet     Close     Month  \\\n",
            "0  Mainstream media has done an amazing job at br...  0.377748  0.727273   \n",
            "1  Tesla delivery estimates are at around 364k fr...  0.377748  0.727273   \n",
            "2  3/ Even if I include 63.0M unvested RSUs as of...  0.377748  0.727273   \n",
            "3  @RealDanODowd @WholeMarsBlog @Tesla Hahaha why...  0.377748  0.727273   \n",
            "4  @RealDanODowd @Tesla Stop trying to kill kids,...  0.377748  0.727273   \n",
            "\n",
            "   Year  Month_sin     Month_cos  Year_sin  Year_cos  \\\n",
            "0   1.0       -1.0 -1.836970e-16  0.955237  0.295841   \n",
            "1   1.0       -1.0 -1.836970e-16  0.955237  0.295841   \n",
            "2   1.0       -1.0 -1.836970e-16  0.955237  0.295841   \n",
            "3   1.0       -1.0 -1.836970e-16  0.955237  0.295841   \n",
            "4   1.0       -1.0 -1.836970e-16  0.955237  0.295841   \n",
            "\n",
            "                                           Token_IDs  \\\n",
            "0  [0, 31359, 8656, 433, 34, 626, 41, 2770, 633, ...   \n",
            "1  [0, 39971, 2996, 2785, 32, 23, 198, 38930, 330...   \n",
            "2  [0, 246, 73, 1648, 114, 38, 680, 5549, 4, 288,...   \n",
            "3  [0, 1039, 17105, 25887, 7111, 1722, 417, 787, ...   \n",
            "4  [0, 1039, 17105, 25887, 7111, 1722, 417, 787, ...   \n",
            "\n",
            "                                      Attention_mask  \n",
            "0  [1, 1, 1, 1, 1, 1, 1, 1, 1, 1, 1, 1, 1, 1, 1, ...  \n",
            "1  [1, 1, 1, 1, 1, 1, 1, 1, 1, 1, 1, 1, 1, 1, 1, ...  \n",
            "2  [1, 1, 1, 1, 1, 1, 1, 1, 1, 1, 1, 1, 1, 1, 1, ...  \n",
            "3  [1, 1, 1, 1, 1, 1, 1, 1, 1, 1, 1, 1, 1, 1, 1, ...  \n",
            "4  [1, 1, 1, 1, 1, 1, 1, 1, 1, 1, 1, 1, 1, 1, 1, ...  \n"
          ]
        }
      ]
    },
    {
      "cell_type": "code",
      "source": [
        "all_predictions = []\n",
        "\n",
        "for chunk in data_chunks:\n",
        "\n",
        "    input_ids = torch.tensor(chunk['Token_IDs'].tolist())\n",
        "    attention_mask = torch.tensor(chunk['Attention_mask'].tolist())\n",
        "\n",
        "\n",
        "    outputs = model(input_ids=input_ids, attention_mask=attention_mask)\n",
        "    predictions = torch.argmax(outputs.logits, axis=-1)\n",
        "\n",
        "\n",
        "    all_predictions.extend(predictions.tolist())\n",
        "\n",
        "data['Predictions'] = all_predictions\n",
        "data.to_csv('predictions_output.csv', index=False)"
      ],
      "metadata": {
        "id": "Qmx3MM0rijhE"
      },
      "execution_count": null,
      "outputs": []
    }
  ]
}