{
 "cells": [
  {
   "cell_type": "markdown",
   "metadata": {
    "id": "VuKj2Aiqlnww"
   },
   "source": [
    "### Scraping data from Yahoo.com"
   ]
  },
  {
   "cell_type": "code",
   "execution_count": 95,
   "metadata": {
    "executionInfo": {
     "elapsed": 309,
     "status": "ok",
     "timestamp": 1731508538228,
     "user": {
      "displayName": "Enes S.",
      "userId": "08878212082155021921"
     },
     "user_tz": -60
    },
    "id": "Y86qYTFO8g2M"
   },
   "outputs": [],
   "source": [
    "import requests\n",
    "from bs4 import BeautifulSoup\n",
    "from IPython.display import HTML\n",
    "import time\n",
    "import pandas as pd\n",
    "import re\n"
   ]
  },
  {
   "cell_type": "code",
   "execution_count": null,
   "metadata": {
    "colab": {
     "base_uri": "https://localhost:8080/",
     "height": 272
    },
    "collapsed": true,
    "executionInfo": {
     "elapsed": 1907,
     "status": "error",
     "timestamp": 1731505393888,
     "user": {
      "displayName": "Enes S.",
      "userId": "08878212082155021921"
     },
     "user_tz": -60
    },
    "id": "NLpZ17KKkOZC",
    "outputId": "0c4b8750-37c4-484b-8244-6dbfd6ac2215"
   },
   "outputs": [
    {
     "name": "stdout",
     "output_type": "stream",
     "text": [
      "SCRAPING PAGE 1\n",
      "STATUS CODE OF THE REQUEST: 200\n",
      "SCRAPED 10 MORE ELEMENTS, TOTAL ELEMENTS ARE 10\n"
     ]
    },
    {
     "ename": "KeyboardInterrupt",
     "evalue": "",
     "output_type": "error",
     "traceback": [
      "\u001b[0;31m---------------------------------------------------------------------------\u001b[0m",
      "\u001b[0;31mKeyboardInterrupt\u001b[0m                         Traceback (most recent call last)",
      "\u001b[0;32m<ipython-input-72-2aed2654419b>\u001b[0m in \u001b[0;36m<cell line: 7>\u001b[0;34m()\u001b[0m\n\u001b[1;32m     20\u001b[0m             \u001b[0murl\u001b[0m \u001b[0;34m=\u001b[0m \u001b[0mnext_anchor\u001b[0m\u001b[0;34m[\u001b[0m\u001b[0;34m'href'\u001b[0m\u001b[0;34m]\u001b[0m\u001b[0;34m\u001b[0m\u001b[0;34m\u001b[0m\u001b[0m\n\u001b[1;32m     21\u001b[0m             \u001b[0mi\u001b[0m \u001b[0;34m+=\u001b[0m \u001b[0;36m1\u001b[0m\u001b[0;34m\u001b[0m\u001b[0;34m\u001b[0m\u001b[0m\n\u001b[0;32m---> 22\u001b[0;31m             \u001b[0mtime\u001b[0m\u001b[0;34m.\u001b[0m\u001b[0msleep\u001b[0m\u001b[0;34m(\u001b[0m\u001b[0;36m3\u001b[0m\u001b[0;34m)\u001b[0m\u001b[0;34m\u001b[0m\u001b[0;34m\u001b[0m\u001b[0m\n\u001b[0m\u001b[1;32m     23\u001b[0m             \u001b[0mprint\u001b[0m\u001b[0;34m(\u001b[0m\u001b[0;34mf'NEW URL IS {url}'\u001b[0m\u001b[0;34m)\u001b[0m\u001b[0;34m\u001b[0m\u001b[0;34m\u001b[0m\u001b[0m\n\u001b[1;32m     24\u001b[0m             \u001b[0mprint\u001b[0m\u001b[0;34m(\u001b[0m\u001b[0;34m'************************************************'\u001b[0m\u001b[0;34m)\u001b[0m\u001b[0;34m\u001b[0m\u001b[0;34m\u001b[0m\u001b[0m\n",
      "\u001b[0;31mKeyboardInterrupt\u001b[0m: "
     ]
    }
   ],
   "source": [
    "#--- SCRAPING YAHOO NEWS\n",
    "\n",
    "url = 'https://news.search.yahoo.com/search;_ylt=AwrFFEkm0DNnIwIAGM9XNyoA;_ylu=Y29sbwNiZjEEcG9zAzEEdnRpZAMEc2VjA3BpdnM-?p=gold+price&fr2=piv-web&fr=yfp-t'\n",
    "\n",
    "result = []\n",
    "i = 1\n",
    "while True:\n",
    "  print(f'SCRAPING PAGE {i}')\n",
    "  snapshot = requests.get(url)\n",
    "  print(f'STATUS CODE OF THE REQUEST: {snapshot.status_code}')\n",
    "  raw_html = snapshot.text\n",
    "  soup = BeautifulSoup(raw_html, 'html.parser')\n",
    "  news_titles = soup.select('.s-title')\n",
    "  for title in news_titles:\n",
    "    result.append(title)\n",
    "  print(f'SCRAPED {len(news_titles)} MORE ELEMENTS, TOTAL ELEMENTS ARE {len(result)}')\n",
    "  try:\n",
    "      next_anchor = soup.find('a', class_='next')\n",
    "      if next_anchor and 'href' in next_anchor.attrs:\n",
    "            url = next_anchor['href']\n",
    "            i += 1\n",
    "            time.sleep(3)\n",
    "            print(f'NEW URL IS {url}')\n",
    "            print('************************************************')\n",
    "      else:\n",
    "            print(f'NO MORE NEXT PAGES: {e}')\n",
    "            print('SCRAPE ENDED.')\n",
    "            print('************************************************')\n",
    "            break\n",
    "  except Exception as e:\n",
    "    print(f'NO MORE NEXT PAGES: {e}')\n",
    "    print('SCRAPE ENDED.')\n",
    "    print('************************************************')\n",
    "    break"
   ]
  },
  {
   "cell_type": "code",
   "execution_count": null,
   "metadata": {
    "executionInfo": {
     "elapsed": 3,
     "status": "aborted",
     "timestamp": 1731505393888,
     "user": {
      "displayName": "Enes S.",
      "userId": "08878212082155021921"
     },
     "user_tz": -60
    },
    "id": "KSE_119vhOae"
   },
   "outputs": [],
   "source": [
    "titles = []\n",
    "for item  in result:\n",
    "  titles.append(item.text)"
   ]
  },
  {
   "cell_type": "code",
   "execution_count": null,
   "metadata": {
    "executionInfo": {
     "elapsed": 3,
     "status": "aborted",
     "timestamp": 1731505393888,
     "user": {
      "displayName": "Enes S.",
      "userId": "08878212082155021921"
     },
     "user_tz": -60
    },
    "id": "Os5RNdchmvKf"
   },
   "outputs": [],
   "source": [
    "yahoo_df = pd.DataFrame(titles)"
   ]
  },
  {
   "cell_type": "code",
   "execution_count": null,
   "metadata": {
    "executionInfo": {
     "elapsed": 4,
     "status": "aborted",
     "timestamp": 1731505393889,
     "user": {
      "displayName": "Enes S.",
      "userId": "08878212082155021921"
     },
     "user_tz": -60
    },
    "id": "jJRU-4gsnUrV"
   },
   "outputs": [],
   "source": [
    "yahoo_df = yahoo_df.rename(columns={0: 'Title'})"
   ]
  },
  {
   "cell_type": "code",
   "execution_count": null,
   "metadata": {
    "executionInfo": {
     "elapsed": 4,
     "status": "aborted",
     "timestamp": 1731505393889,
     "user": {
      "displayName": "Enes S.",
      "userId": "08878212082155021921"
     },
     "user_tz": -60
    },
    "id": "yzjuGqRvnfHH"
   },
   "outputs": [],
   "source": [
    "yahoo_df = yahoo_df.drop_duplicates(subset=['Title'])"
   ]
  },
  {
   "cell_type": "code",
   "execution_count": null,
   "metadata": {
    "executionInfo": {
     "elapsed": 4,
     "status": "aborted",
     "timestamp": 1731505393889,
     "user": {
      "displayName": "Enes S.",
      "userId": "08878212082155021921"
     },
     "user_tz": -60
    },
    "id": "qEAxEJEkkgsp"
   },
   "outputs": [],
   "source": [
    "len(yahoo_df)"
   ]
  },
  {
   "cell_type": "code",
   "execution_count": null,
   "metadata": {
    "executionInfo": {
     "elapsed": 3,
     "status": "aborted",
     "timestamp": 1731505393889,
     "user": {
      "displayName": "Enes S.",
      "userId": "08878212082155021921"
     },
     "user_tz": -60
    },
    "id": "bZHA9ijXkjyq"
   },
   "outputs": [],
   "source": [
    "path = '/content/drive/MyDrive/praksa_manu/yahoo_data.csv'\n",
    "yahoo_df.to_csv(path, index=False)"
   ]
  },
  {
   "cell_type": "markdown",
   "metadata": {
    "id": "btsvcLY0lunb"
   },
   "source": [
    "### Scraping data from Google.com"
   ]
  },
  {
   "cell_type": "code",
   "execution_count": 49,
   "metadata": {
    "colab": {
     "base_uri": "https://localhost:8080/"
    },
    "collapsed": true,
    "executionInfo": {
     "elapsed": 6122,
     "status": "ok",
     "timestamp": 1731503276901,
     "user": {
      "displayName": "Enes S.",
      "userId": "08878212082155021921"
     },
     "user_tz": -60
    },
    "id": "2yvvCewJouRI",
    "outputId": "d6f40afd-9231-4265-b1ff-e42b91920712"
   },
   "outputs": [
    {
     "name": "stdout",
     "output_type": "stream",
     "text": [
      "Collecting selenium\n",
      "  Downloading selenium-4.26.1-py3-none-any.whl.metadata (7.1 kB)\n",
      "Requirement already satisfied: urllib3<3,>=1.26 in /usr/local/lib/python3.10/dist-packages (from urllib3[socks]<3,>=1.26->selenium) (2.2.3)\n",
      "Collecting trio~=0.17 (from selenium)\n",
      "  Downloading trio-0.27.0-py3-none-any.whl.metadata (8.6 kB)\n",
      "Collecting trio-websocket~=0.9 (from selenium)\n",
      "  Downloading trio_websocket-0.11.1-py3-none-any.whl.metadata (4.7 kB)\n",
      "Requirement already satisfied: certifi>=2021.10.8 in /usr/local/lib/python3.10/dist-packages (from selenium) (2024.8.30)\n",
      "Requirement already satisfied: typing_extensions~=4.9 in /usr/local/lib/python3.10/dist-packages (from selenium) (4.12.2)\n",
      "Requirement already satisfied: websocket-client~=1.8 in /usr/local/lib/python3.10/dist-packages (from selenium) (1.8.0)\n",
      "Requirement already satisfied: attrs>=23.2.0 in /usr/local/lib/python3.10/dist-packages (from trio~=0.17->selenium) (24.2.0)\n",
      "Collecting sortedcontainers (from trio~=0.17->selenium)\n",
      "  Downloading sortedcontainers-2.4.0-py2.py3-none-any.whl.metadata (10 kB)\n",
      "Requirement already satisfied: idna in /usr/local/lib/python3.10/dist-packages (from trio~=0.17->selenium) (3.10)\n",
      "Collecting outcome (from trio~=0.17->selenium)\n",
      "  Downloading outcome-1.3.0.post0-py2.py3-none-any.whl.metadata (2.6 kB)\n",
      "Requirement already satisfied: sniffio>=1.3.0 in /usr/local/lib/python3.10/dist-packages (from trio~=0.17->selenium) (1.3.1)\n",
      "Requirement already satisfied: exceptiongroup in /usr/local/lib/python3.10/dist-packages (from trio~=0.17->selenium) (1.2.2)\n",
      "Collecting wsproto>=0.14 (from trio-websocket~=0.9->selenium)\n",
      "  Downloading wsproto-1.2.0-py3-none-any.whl.metadata (5.6 kB)\n",
      "Requirement already satisfied: pysocks!=1.5.7,<2.0,>=1.5.6 in /usr/local/lib/python3.10/dist-packages (from urllib3[socks]<3,>=1.26->selenium) (1.7.1)\n",
      "Requirement already satisfied: h11<1,>=0.9.0 in /usr/local/lib/python3.10/dist-packages (from wsproto>=0.14->trio-websocket~=0.9->selenium) (0.14.0)\n",
      "Downloading selenium-4.26.1-py3-none-any.whl (9.7 MB)\n",
      "\u001b[2K   \u001b[90m━━━━━━━━━━━━━━━━━━━━━━━━━━━━━━━━━━━━━━━━\u001b[0m \u001b[32m9.7/9.7 MB\u001b[0m \u001b[31m80.4 MB/s\u001b[0m eta \u001b[36m0:00:00\u001b[0m\n",
      "\u001b[?25hDownloading trio-0.27.0-py3-none-any.whl (481 kB)\n",
      "\u001b[2K   \u001b[90m━━━━━━━━━━━━━━━━━━━━━━━━━━━━━━━━━━━━━━━━\u001b[0m \u001b[32m481.7/481.7 kB\u001b[0m \u001b[31m30.7 MB/s\u001b[0m eta \u001b[36m0:00:00\u001b[0m\n",
      "\u001b[?25hDownloading trio_websocket-0.11.1-py3-none-any.whl (17 kB)\n",
      "Downloading wsproto-1.2.0-py3-none-any.whl (24 kB)\n",
      "Downloading outcome-1.3.0.post0-py2.py3-none-any.whl (10 kB)\n",
      "Downloading sortedcontainers-2.4.0-py2.py3-none-any.whl (29 kB)\n",
      "Installing collected packages: sortedcontainers, wsproto, outcome, trio, trio-websocket, selenium\n",
      "Successfully installed outcome-1.3.0.post0 selenium-4.26.1 sortedcontainers-2.4.0 trio-0.27.0 trio-websocket-0.11.1 wsproto-1.2.0\n"
     ]
    }
   ],
   "source": [
    "!pip install selenium"
   ]
  },
  {
   "cell_type": "code",
   "execution_count": 54,
   "metadata": {
    "executionInfo": {
     "elapsed": 307,
     "status": "ok",
     "timestamp": 1731503560986,
     "user": {
      "displayName": "Enes S.",
      "userId": "08878212082155021921"
     },
     "user_tz": -60
    },
    "id": "6I_veVWzo2I5"
   },
   "outputs": [],
   "source": [
    "from selenium import webdriver\n",
    "from selenium.webdriver.common.by import By\n",
    "from selenium.webdriver.common.keys import Keys\n",
    "from selenium.webdriver.chrome.options import Options\n",
    "from selenium.common.exceptions import NoSuchElementException"
   ]
  },
  {
   "cell_type": "code",
   "execution_count": 65,
   "metadata": {
    "executionInfo": {
     "elapsed": 267,
     "status": "ok",
     "timestamp": 1731505192217,
     "user": {
      "displayName": "Enes S.",
      "userId": "08878212082155021921"
     },
     "user_tz": -60
    },
    "id": "6maq7px3o6XS"
   },
   "outputs": [],
   "source": [
    "chrome_options = Options()\n",
    "chrome_options.add_argument(\"--disable-gpu\")\n",
    "chrome_options.add_argument(\"--no-sandbox\")\n",
    "chrome_options.add_argument(\"--headless\")"
   ]
  },
  {
   "cell_type": "code",
   "execution_count": 66,
   "metadata": {
    "executionInfo": {
     "elapsed": 1313,
     "status": "ok",
     "timestamp": 1731505194885,
     "user": {
      "displayName": "Enes S.",
      "userId": "08878212082155021921"
     },
     "user_tz": -60
    },
    "id": "Bj1p55MppDag"
   },
   "outputs": [],
   "source": [
    "driver = webdriver.Chrome(options=chrome_options)"
   ]
  },
  {
   "cell_type": "code",
   "execution_count": 62,
   "metadata": {
    "executionInfo": {
     "elapsed": 275,
     "status": "ok",
     "timestamp": 1731504780751,
     "user": {
      "displayName": "Enes S.",
      "userId": "08878212082155021921"
     },
     "user_tz": -60
    },
    "id": "NkyHoBjhuiKJ"
   },
   "outputs": [],
   "source": [
    "result = []"
   ]
  },
  {
   "cell_type": "code",
   "execution_count": 67,
   "metadata": {
    "colab": {
     "base_uri": "https://localhost:8080/"
    },
    "collapsed": true,
    "executionInfo": {
     "elapsed": 122017,
     "status": "ok",
     "timestamp": 1731505321140,
     "user": {
      "displayName": "Enes S.",
      "userId": "08878212082155021921"
     },
     "user_tz": -60
    },
    "id": "JDkjOeF-usxb",
    "outputId": "5fce033e-d60c-4b70-e7b5-d9e7be1d2b87"
   },
   "outputs": [
    {
     "name": "stdout",
     "output_type": "stream",
     "text": [
      "**************************************\n",
      "SCRAPING PAGE  1\n",
      "SCRAPED 13 MORE ITEMS, TOTAL ITEM COUNT: 163\n",
      "VISITING NEXT URL: https://www.google.com/search?q=gold+price&sca_esv=6ae07070a390ab29&rlz=1C1GCEA_enMK1124MK1124&biw=1920&bih=911&tbm=nws&ei=Mqw0Z_q2JqrZkPIP9YTp4Aw&start=10&sa=N&ved=2ahUKEwj6l57Et9mJAxWqLEQIHXVCGswQ8NMDegQIBBAW\n",
      "**************************************\n",
      "SCRAPING PAGE  2\n",
      "SCRAPED 10 MORE ITEMS, TOTAL ITEM COUNT: 176\n",
      "VISITING NEXT URL: https://www.google.com/search?q=gold+price&sca_esv=6ae07070a390ab29&rlz=1C1GCEA_enMK1124MK1124&biw=1920&bih=911&tbm=nws&ei=Nqw0Z9jtMNm4kPIPk-Cy0Ag&start=20&sa=N&ved=2ahUKEwjY4JzGt9mJAxVZHEQIHROwDIo4ChDw0wN6BAgDEBk\n",
      "**************************************\n",
      "SCRAPING PAGE  3\n",
      "SCRAPED 10 MORE ITEMS, TOTAL ITEM COUNT: 186\n",
      "VISITING NEXT URL: https://www.google.com/search?q=gold+price&sca_esv=6ae07070a390ab29&rlz=1C1GCEA_enMK1124MK1124&biw=1920&bih=911&tbm=nws&ei=O6w0Z_3HFMydkPIPwc7iwQc&start=30&sa=N&ved=2ahUKEwi90bHIt9mJAxXMDkQIHUGnOHg4FBDw0wN6BAgEEBs\n",
      "**************************************\n",
      "SCRAPING PAGE  4\n",
      "SCRAPED 10 MORE ITEMS, TOTAL ITEM COUNT: 196\n",
      "VISITING NEXT URL: https://www.google.com/search?q=gold+price&sca_esv=6ae07070a390ab29&rlz=1C1GCEA_enMK1124MK1124&biw=1920&bih=911&tbm=nws&ei=P6w0Z8WUKJnSkPIP9Ym6-Qk&start=40&sa=N&ved=2ahUKEwiFsLnKt9mJAxUZKUQIHfWELp84HhDw0wN6BAgEEB0\n",
      "**************************************\n",
      "SCRAPING PAGE  5\n",
      "SCRAPED 10 MORE ITEMS, TOTAL ITEM COUNT: 206\n",
      "VISITING NEXT URL: https://www.google.com/search?q=gold+price&sca_esv=6ae07070a390ab29&rlz=1C1GCEA_enMK1124MK1124&biw=1920&bih=911&tbm=nws&ei=Q6w0Z6TWJObfkPIPoMHHuQY&start=50&sa=N&ved=2ahUKEwjkg6rMt9mJAxXmL0QIHaDgMWc4KBDw0wN6BAgEEB8\n",
      "**************************************\n",
      "SCRAPING PAGE  6\n",
      "SCRAPED 10 MORE ITEMS, TOTAL ITEM COUNT: 216\n",
      "VISITING NEXT URL: https://www.google.com/search?q=gold+price&sca_esv=6ae07070a390ab29&rlz=1C1GCEA_enMK1124MK1124&biw=1920&bih=911&tbm=nws&ei=R6w0Z_-wE-q8kPIP5ZfBgQ8&start=60&sa=N&ved=2ahUKEwi_8IzOt9mJAxVqHkQIHeVLMPA4MhDw0wN6BAgEECE\n",
      "**************************************\n",
      "SCRAPING PAGE  7\n",
      "SCRAPED 10 MORE ITEMS, TOTAL ITEM COUNT: 226\n",
      "VISITING NEXT URL: https://www.google.com/search?q=gold+price&sca_esv=6ae07070a390ab29&rlz=1C1GCEA_enMK1124MK1124&biw=1920&bih=911&tbm=nws&ei=S6w0Z6_hDefUkPIPj7yi-As&start=70&sa=N&ved=2ahUKEwjvsvvPt9mJAxVnKkQIHQ-eCL84PBDw0wN6BAgEECM\n",
      "**************************************\n",
      "SCRAPING PAGE  8\n",
      "SCRAPED 10 MORE ITEMS, TOTAL ITEM COUNT: 236\n",
      "VISITING NEXT URL: https://www.google.com/search?q=gold+price&sca_esv=6ae07070a390ab29&rlz=1C1GCEA_enMK1124MK1124&biw=1920&bih=911&tbm=nws&ei=T6w0Z9exB-vRkPIP-uqgmQ4&start=80&sa=N&ved=2ahUKEwiXlenRt9mJAxXrKEQIHXo1KOM4RhDw0wN6BAgCECU\n",
      "**************************************\n",
      "SCRAPING PAGE  9\n",
      "SCRAPED 10 MORE ITEMS, TOTAL ITEM COUNT: 246\n",
      "VISITING NEXT URL: https://www.google.com/search?q=gold+price&sca_esv=6ae07070a390ab29&rlz=1C1GCEA_enMK1124MK1124&biw=1920&bih=911&tbm=nws&ei=Uqw0Z_OpMeb3kPIP98aN0QQ&start=90&sa=N&ved=2ahUKEwjzmsrTt9mJAxXmO0QIHXdjI0o4UBDw0wN6BAgDECc\n",
      "**************************************\n",
      "SCRAPING PAGE  10\n",
      "SCRAPED 10 MORE ITEMS, TOTAL ITEM COUNT: 256\n",
      "VISITING NEXT URL: https://www.google.com/search?q=gold+price&sca_esv=6ae07070a390ab29&rlz=1C1GCEA_enMK1124MK1124&biw=1920&bih=911&tbm=nws&ei=Vqw0Z4nFHa-gur8P0JL1mA4&start=100&sa=N&ved=2ahUKEwiJyKrVt9mJAxUvkO4BHVBJHeM4WhDw0wN6BAgEECk\n",
      "**************************************\n",
      "SCRAPING PAGE  11\n",
      "SCRAPED 10 MORE ITEMS, TOTAL ITEM COUNT: 266\n",
      "VISITING NEXT URL: https://www.google.com/search?q=gold+price&sca_esv=6ae07070a390ab29&rlz=1C1GCEA_enMK1124MK1124&biw=1920&bih=911&tbm=nws&ei=Wqw0Z9npDZzLkPIPlYv46A0&start=110&sa=N&ved=2ahUKEwjZ_o7Xt9mJAxWcJUQIHZUFHt04ZBDw0wN6BAgDECs\n",
      "**************************************\n",
      "SCRAPING PAGE  12\n",
      "SCRAPED 10 MORE ITEMS, TOTAL ITEM COUNT: 276\n",
      "VISITING NEXT URL: https://www.google.com/search?q=gold+price&sca_esv=6ae07070a390ab29&rlz=1C1GCEA_enMK1124MK1124&biw=1920&bih=911&tbm=nws&ei=Xqw0Z4K8CsfukPIPg-iwgAc&start=120&sa=N&ved=2ahUKEwiC4__Yt9mJAxVHN0QIHQM0DHA4bhDw0wN6BAgDECs\n",
      "**************************************\n",
      "SCRAPING PAGE  13\n",
      "SCRAPED 10 MORE ITEMS, TOTAL ITEM COUNT: 286\n",
      "VISITING NEXT URL: https://www.google.com/search?q=gold+price&sca_esv=6ae07070a390ab29&rlz=1C1GCEA_enMK1124MK1124&biw=1920&bih=911&tbm=nws&ei=Yqw0Z4XHCNDdkPIPmM-U4Ag&start=130&sa=N&ved=2ahUKEwiFgPLat9mJAxXQLkQIHZgnBYw4eBDw0wN6BAgEECs\n",
      "**************************************\n",
      "SCRAPING PAGE  14\n",
      "SCRAPED 10 MORE ITEMS, TOTAL ITEM COUNT: 296\n",
      "VISITING NEXT URL: https://www.google.com/search?q=gold+price&sca_esv=6ae07070a390ab29&rlz=1C1GCEA_enMK1124MK1124&biw=1920&bih=911&tbm=nws&ei=Zqw0Z_X5Ar3ckPIPopTXGQ&start=140&sa=N&ved=2ahUKEwj1xODct9mJAxU9LkQIHSLKNQM4ggEQ8NMDegQIAxAr\n",
      "**************************************\n",
      "SCRAPING PAGE  15\n",
      "SCRAPED 10 MORE ITEMS, TOTAL ITEM COUNT: 306\n",
      "VISITING NEXT URL: https://www.google.com/search?q=gold+price&sca_esv=6ae07070a390ab29&rlz=1C1GCEA_enMK1124MK1124&biw=1920&bih=911&tbm=nws&ei=aaw0Z-PSNMLmkPIPiL6NwQc&start=150&sa=N&ved=2ahUKEwijq8net9mJAxVCM0QIHQhfI3g4jAEQ8NMDegQIBBAr\n",
      "**************************************\n",
      "SCRAPING PAGE  16\n",
      "SCRAPED 10 MORE ITEMS, TOTAL ITEM COUNT: 316\n",
      "VISITING NEXT URL: https://www.google.com/search?q=gold+price&sca_esv=6ae07070a390ab29&rlz=1C1GCEA_enMK1124MK1124&biw=1920&bih=911&tbm=nws&ei=bqw0Z5WWHM_BkPIP2ZCh-Q0&start=160&sa=N&ved=2ahUKEwiVheLgt9mJAxXPIEQIHVlIKN84lgEQ8NMDegQIAxAr\n",
      "**************************************\n",
      "SCRAPING PAGE  17\n",
      "SCRAPED 10 MORE ITEMS, TOTAL ITEM COUNT: 326\n",
      "VISITING NEXT URL: https://www.google.com/search?q=gold+price&sca_esv=6ae07070a390ab29&rlz=1C1GCEA_enMK1124MK1124&biw=1920&bih=911&tbm=nws&ei=cqw0Z4CoC9LgkPIPutKIuAs&start=170&sa=N&ved=2ahUKEwiAqcXit9mJAxVSMEQIHTopArc4oAEQ8NMDegQIAhAr\n",
      "**************************************\n",
      "SCRAPING PAGE  18\n",
      "SCRAPED 10 MORE ITEMS, TOTAL ITEM COUNT: 336\n",
      "VISITING NEXT URL: https://www.google.com/search?q=gold+price&sca_esv=6ae07070a390ab29&rlz=1C1GCEA_enMK1124MK1124&biw=1920&bih=911&tbm=nws&ei=dqw0Z4-6E83XkPIP6POE0A4&start=180&sa=N&ved=2ahUKEwiPzcHkt9mJAxXNK0QIHeg5Aeo4qgEQ8NMDegQIAxAr\n",
      "**************************************\n",
      "SCRAPING PAGE  19\n",
      "SCRAPED 10 MORE ITEMS, TOTAL ITEM COUNT: 346\n",
      "VISITING NEXT URL: https://www.google.com/search?q=gold+price&sca_esv=6ae07070a390ab29&rlz=1C1GCEA_enMK1124MK1124&biw=1920&bih=911&tbm=nws&ei=eqw0Z4DzGKukkPIPo7ru2Qs&start=190&sa=N&ved=2ahUKEwiAmLvmt9mJAxUrEkQIHSOdO7s4tAEQ8NMDegQIBBAr\n",
      "**************************************\n",
      "SCRAPING PAGE  20\n",
      "SCRAPED 10 MORE ITEMS, TOTAL ITEM COUNT: 356\n",
      "VISITING NEXT URL: https://www.google.com/search?q=gold+price&sca_esv=6ae07070a390ab29&rlz=1C1GCEA_enMK1124MK1124&biw=1920&bih=911&tbm=nws&ei=fqw0Z7G_G-muur8PpprCmA8&start=200&sa=N&ved=2ahUKEwix9rHot9mJAxVpl-4BHSaNEPM4vgEQ8NMDegQIBBAr\n",
      "**************************************\n",
      "SCRAPING PAGE  21\n",
      "SCRAPED 10 MORE ITEMS, TOTAL ITEM COUNT: 366\n",
      "VISITING NEXT URL: https://www.google.com/search?q=gold+price&sca_esv=6ae07070a390ab29&rlz=1C1GCEA_enMK1124MK1124&biw=1920&bih=911&tbm=nws&ei=gqw0Z-7mHOnIkPIPkei_uQ4&start=210&sa=N&ved=2ahUKEwjur6fqt9mJAxVpJEQIHRH0L-c4yAEQ8NMDegQIAxAr\n",
      "**************************************\n",
      "SCRAPING PAGE  22\n",
      "SCRAPED 10 MORE ITEMS, TOTAL ITEM COUNT: 376\n",
      "VISITING NEXT URL: https://www.google.com/search?q=gold+price&sca_esv=6ae07070a390ab29&rlz=1C1GCEA_enMK1124MK1124&biw=1920&bih=911&tbm=nws&ei=hqw0Z_HnIpisur8P47qo2Aw&start=220&sa=N&ved=2ahUKEwjxwqHst9mJAxUYlu4BHWMdCss40gEQ8NMDegQIBBAp\n",
      "**************************************\n",
      "SCRAPING PAGE  23\n",
      "SCRAPED 10 MORE ITEMS, TOTAL ITEM COUNT: 386\n",
      "VISITING NEXT URL: https://www.google.com/search?q=gold+price&sca_esv=6ae07070a390ab29&rlz=1C1GCEA_enMK1124MK1124&biw=1920&bih=911&tbm=nws&ei=iqw0Z7n4Jv_DkPIP6dqx8AQ&start=230&sa=N&ved=2ahUKEwi55Znut9mJAxX_IUQIHWltDE443AEQ8NMDegQIAxAn\n",
      "**************************************\n",
      "SCRAPING PAGE  24\n",
      "SCRAPED 10 MORE ITEMS, TOTAL ITEM COUNT: 396\n",
      "VISITING NEXT URL: https://www.google.com/search?q=gold+price&sca_esv=6ae07070a390ab29&rlz=1C1GCEA_enMK1124MK1124&biw=1920&bih=911&tbm=nws&ei=j6w0Z5-cDP75kPIP1tKlgA4&start=240&sa=N&ved=2ahUKEwjfn7Dwt9mJAxX-PEQIHVZpCeA45gEQ8NMDegQIAxAl\n",
      "**************************************\n",
      "SCRAPING PAGE  25\n",
      "SCRAPED 10 MORE ITEMS, TOTAL ITEM COUNT: 406\n",
      "VISITING NEXT URL: https://www.google.com/search?q=gold+price&sca_esv=6ae07070a390ab29&rlz=1C1GCEA_enMK1124MK1124&biw=1920&bih=911&tbm=nws&ei=k6w0Z5jnD4HBkPIPrursyQw&start=250&sa=N&ved=2ahUKEwjY_Kfyt9mJAxWBIEQIHS41O8k48AEQ8NMDegQIAxAj\n",
      "**************************************\n",
      "SCRAPING PAGE  26\n",
      "SCRAPED 10 MORE ITEMS, TOTAL ITEM COUNT: 416\n",
      "VISITING NEXT URL: https://www.google.com/search?q=gold+price&sca_esv=6ae07070a390ab29&rlz=1C1GCEA_enMK1124MK1124&biw=1920&bih=911&tbm=nws&ei=l6w0Z5iBEsPQkPIPv5ylqAo&start=260&sa=N&ved=2ahUKEwjYqJ70t9mJAxVDKEQIHT9OCaU4-gEQ8NMDegQIAxAh\n",
      "**************************************\n",
      "SCRAPING PAGE  27\n",
      "SCRAPED 10 MORE ITEMS, TOTAL ITEM COUNT: 426\n",
      "VISITING NEXT URL: https://www.google.com/search?q=gold+price&sca_esv=6ae07070a390ab29&rlz=1C1GCEA_enMK1124MK1124&biw=1920&bih=911&tbm=nws&ei=m6w0Z_mSHLKwur8PzuCzuAk&start=270&sa=N&ved=2ahUKEwi5zJz2t9mJAxUymO4BHU7wDJc4hAIQ8NMDegQIBBAf\n",
      "**************************************\n",
      "SCRAPING PAGE  28\n",
      "SCRAPED 10 MORE ITEMS, TOTAL ITEM COUNT: 436\n",
      "VISITING NEXT URL: https://www.google.com/search?q=gold+price&sca_esv=6ae07070a390ab29&rlz=1C1GCEA_enMK1124MK1124&biw=1920&bih=911&tbm=nws&ei=n6w0Z6C4OoS8kPIPvefqwQY&start=280&sa=N&ved=2ahUKEwjgg6_4t9mJAxUEHkQIHb2zOmg4jgIQ8NMDegQIBBAd\n",
      "**************************************\n",
      "SCRAPING PAGE  29\n",
      "SCRAPED 10 MORE ITEMS, TOTAL ITEM COUNT: 446\n",
      "VISITING NEXT URL: https://www.google.com/search?q=gold+price&sca_esv=6ae07070a390ab29&rlz=1C1GCEA_enMK1124MK1124&biw=1920&bih=911&tbm=nws&ei=o6w0Z8GDMPzckPIPlbTBOA&start=290&sa=N&ved=2ahUKEwiB4Zj6t9mJAxV8LkQIHRVaEAc4mAIQ8NMDegQIAxAb\n",
      "**************************************\n",
      "SCRAPING PAGE  30\n",
      "SCRAPED 10 MORE ITEMS, TOTAL ITEM COUNT: 456\n",
      "No more pages.\n"
     ]
    }
   ],
   "source": [
    "url = 'https://www.google.com/search?sca_esv=6ae07070a390ab29&rlz=1C1GCEA_enMK1124MK1124&sxsrf=ADLYWIJaP-_DJKDwtC-N6KusWnmgr5dawQ:1731501665838&q=gold+price&tbm=nws&source=lnms&fbs=AEQNm0Aa4sjWe7Rqy32pFwRj0UkWtG_mNb-HwafvV8cKK_h1a5eSkyfXNgRC6a9SKsMT7FKGHfCChT2AOXKYl9WIi4ozGsTO9EqXyT6BUycaiOtZASilP0aswwYMt3ji6-Gvj7uCIIu12wy_q-WqlXZ29dkbzUPlWHWh2_-ilqmjZ8mMeT3ihVnPGKxgitNMubrmzNRUnHH9&sa=X&ved=2ahUKEwjHkeGtqtmJAxWR87sIHdTUMOUQ0pQJegQIHxAB&biw=1920&bih=911&dpr=1'\n",
    "i = 1\n",
    "while True:\n",
    "  print('**************************************')\n",
    "  time.sleep(3)\n",
    "  print(f'SCRAPING PAGE  {i}')\n",
    "  driver.get(url)\n",
    "  news_titles = driver.find_elements(By.CLASS_NAME, 'n0jPhd')\n",
    "  print(f'SCRAPED {len(news_titles)} MORE ITEMS, TOTAL ITEM COUNT: {len(result)}')\n",
    "  for item in news_titles:\n",
    "    result.append(item.text)\n",
    "  try:\n",
    "        next_button = driver.find_element(\"id\", \"pnnext\")\n",
    "        next_href = next_button.get_attribute(\"href\")\n",
    "        url = next_href\n",
    "        i += 1\n",
    "        print(f'VISITING NEXT URL: {url}')\n",
    "\n",
    "  except NoSuchElementException:\n",
    "        print(\"No more pages.\")\n",
    "        break"
   ]
  },
  {
   "cell_type": "code",
   "execution_count": 68,
   "metadata": {
    "colab": {
     "base_uri": "https://localhost:8080/"
    },
    "executionInfo": {
     "elapsed": 4,
     "status": "ok",
     "timestamp": 1731505359249,
     "user": {
      "displayName": "Enes S.",
      "userId": "08878212082155021921"
     },
     "user_tz": -60
    },
    "id": "41PKBGxelHEF",
    "outputId": "21c5b79a-92b5-4a97-e6d2-5123f51783f0"
   },
   "outputs": [
    {
     "data": {
      "text/plain": [
       "466"
      ]
     },
     "execution_count": 68,
     "metadata": {},
     "output_type": "execute_result"
    }
   ],
   "source": [
    "len(result)"
   ]
  },
  {
   "cell_type": "code",
   "execution_count": 69,
   "metadata": {
    "executionInfo": {
     "elapsed": 310,
     "status": "ok",
     "timestamp": 1731505377400,
     "user": {
      "displayName": "Enes S.",
      "userId": "08878212082155021921"
     },
     "user_tz": -60
    },
    "id": "9Ap8VR2twwdP"
   },
   "outputs": [],
   "source": [
    "google_df = pd.DataFrame(result)"
   ]
  },
  {
   "cell_type": "code",
   "execution_count": 73,
   "metadata": {
    "executionInfo": {
     "elapsed": 281,
     "status": "ok",
     "timestamp": 1731505421482,
     "user": {
      "displayName": "Enes S.",
      "userId": "08878212082155021921"
     },
     "user_tz": -60
    },
    "id": "j05VGwdYw2S-"
   },
   "outputs": [],
   "source": [
    "google_df = google_df.rename(columns={0: 'Title'})"
   ]
  },
  {
   "cell_type": "code",
   "execution_count": 74,
   "metadata": {
    "executionInfo": {
     "elapsed": 277,
     "status": "ok",
     "timestamp": 1731505439522,
     "user": {
      "displayName": "Enes S.",
      "userId": "08878212082155021921"
     },
     "user_tz": -60
    },
    "id": "NgwqoKAMw_oF"
   },
   "outputs": [],
   "source": [
    "google_df = google_df.drop_duplicates(subset=['Title'])"
   ]
  },
  {
   "cell_type": "code",
   "execution_count": 75,
   "metadata": {
    "colab": {
     "base_uri": "https://localhost:8080/"
    },
    "executionInfo": {
     "elapsed": 274,
     "status": "ok",
     "timestamp": 1731505446762,
     "user": {
      "displayName": "Enes S.",
      "userId": "08878212082155021921"
     },
     "user_tz": -60
    },
    "id": "8Z40_xO1xEBQ",
    "outputId": "2795b478-953a-445e-9eba-a0ddf95a4150"
   },
   "outputs": [
    {
     "data": {
      "text/plain": [
       "297"
      ]
     },
     "execution_count": 75,
     "metadata": {},
     "output_type": "execute_result"
    }
   ],
   "source": [
    "len(google_df)"
   ]
  },
  {
   "cell_type": "code",
   "execution_count": 142,
   "metadata": {
    "executionInfo": {
     "elapsed": 301,
     "status": "ok",
     "timestamp": 1731511029756,
     "user": {
      "displayName": "Enes S.",
      "userId": "08878212082155021921"
     },
     "user_tz": -60
    },
    "id": "naFc9V2OGKvg"
   },
   "outputs": [],
   "source": [
    "path = '/content/drive/MyDrive/praksa_manu/google_news_data.csv'\n",
    "google_df.to_csv(path, index=False)"
   ]
  },
  {
   "cell_type": "markdown",
   "metadata": {
    "id": "TNMvu-Jqxclv"
   },
   "source": [
    "### Scraping data from Bing.com"
   ]
  },
  {
   "cell_type": "code",
   "execution_count": 77,
   "metadata": {
    "executionInfo": {
     "elapsed": 311,
     "status": "ok",
     "timestamp": 1731507956200,
     "user": {
      "displayName": "Enes S.",
      "userId": "08878212082155021921"
     },
     "user_tz": -60
    },
    "id": "ARsiS7wYxgjH"
   },
   "outputs": [],
   "source": [
    "url = 'https://www.bing.com/news/search?q=gold+price&qs=n&form=QBNT&sp=-1&lq=0&pq=gold+price&sc=10-10&sk=&cvid=7D187D88B358457793C66A4C780C785B&ghsh=0&ghacc=0&ghpl='"
   ]
  },
  {
   "cell_type": "code",
   "execution_count": 79,
   "metadata": {
    "executionInfo": {
     "elapsed": 277,
     "status": "ok",
     "timestamp": 1731508015984,
     "user": {
      "displayName": "Enes S.",
      "userId": "08878212082155021921"
     },
     "user_tz": -60
    },
    "id": "ulI1_cVs638_"
   },
   "outputs": [],
   "source": [
    "chrome_options = Options()\n",
    "chrome_options.add_argument(\"--disable-gpu\")\n",
    "chrome_options.add_argument(\"--no-sandbox\")\n",
    "chrome_options.add_argument(\"--headless\")"
   ]
  },
  {
   "cell_type": "code",
   "execution_count": 80,
   "metadata": {
    "executionInfo": {
     "elapsed": 1301,
     "status": "ok",
     "timestamp": 1731508018999,
     "user": {
      "displayName": "Enes S.",
      "userId": "08878212082155021921"
     },
     "user_tz": -60
    },
    "id": "qs-42SLC638_"
   },
   "outputs": [],
   "source": [
    "driver = webdriver.Chrome(options=chrome_options)"
   ]
  },
  {
   "cell_type": "code",
   "execution_count": 81,
   "metadata": {
    "executionInfo": {
     "elapsed": 1445,
     "status": "ok",
     "timestamp": 1731508022195,
     "user": {
      "displayName": "Enes S.",
      "userId": "08878212082155021921"
     },
     "user_tz": -60
    },
    "id": "be6w0goq6qcO"
   },
   "outputs": [],
   "source": [
    "driver.get(url)"
   ]
  },
  {
   "cell_type": "code",
   "execution_count": 82,
   "metadata": {
    "executionInfo": {
     "elapsed": 294,
     "status": "ok",
     "timestamp": 1731508035873,
     "user": {
      "displayName": "Enes S.",
      "userId": "08878212082155021921"
     },
     "user_tz": -60
    },
    "id": "OecxeU3b6t2P"
   },
   "outputs": [],
   "source": [
    "last_height = driver.execute_script(\"return document.body.scrollHeight\")"
   ]
  },
  {
   "cell_type": "code",
   "execution_count": 83,
   "metadata": {
    "executionInfo": {
     "elapsed": 45717,
     "status": "ok",
     "timestamp": 1731508148771,
     "user": {
      "displayName": "Enes S.",
      "userId": "08878212082155021921"
     },
     "user_tz": -60
    },
    "id": "ZpfsrNlm695W"
   },
   "outputs": [],
   "source": [
    "while True:\n",
    "  driver.execute_script(\"window.scrollTo(0, document.body.scrollHeight);\")\n",
    "  time.sleep(3)\n",
    "  new_height = driver.execute_script(\"return document.body.scrollHeight\")\n",
    "  if new_height == last_height:\n",
    "      break\n",
    "  last_height = new_height"
   ]
  },
  {
   "cell_type": "code",
   "execution_count": 84,
   "metadata": {
    "executionInfo": {
     "elapsed": 276,
     "status": "ok",
     "timestamp": 1731508169239,
     "user": {
      "displayName": "Enes S.",
      "userId": "08878212082155021921"
     },
     "user_tz": -60
    },
    "id": "W5KRM7FS7OXt"
   },
   "outputs": [],
   "source": [
    "titles = driver.find_elements(By.CLASS_NAME, 'title')"
   ]
  },
  {
   "cell_type": "code",
   "execution_count": 85,
   "metadata": {
    "colab": {
     "base_uri": "https://localhost:8080/"
    },
    "executionInfo": {
     "elapsed": 298,
     "status": "ok",
     "timestamp": 1731508175399,
     "user": {
      "displayName": "Enes S.",
      "userId": "08878212082155021921"
     },
     "user_tz": -60
    },
    "id": "0YPstl7w7edX",
    "outputId": "bf79e721-f54e-497c-e69e-42ca0e08e3a4"
   },
   "outputs": [
    {
     "data": {
      "text/plain": [
       "178"
      ]
     },
     "execution_count": 85,
     "metadata": {},
     "output_type": "execute_result"
    }
   ],
   "source": [
    "len(titles)"
   ]
  },
  {
   "cell_type": "code",
   "execution_count": 86,
   "metadata": {
    "colab": {
     "base_uri": "https://localhost:8080/"
    },
    "collapsed": true,
    "executionInfo": {
     "elapsed": 3662,
     "status": "ok",
     "timestamp": 1731508227610,
     "user": {
      "displayName": "Enes S.",
      "userId": "08878212082155021921"
     },
     "user_tz": -60
    },
    "id": "xCSps1s07f6_",
    "outputId": "50fe4e9a-1a28-4da5-9d81-71bf851d98a5"
   },
   "outputs": [
    {
     "name": "stdout",
     "output_type": "stream",
     "text": [
      "IMF urged to cash in on gold price to help poor countries hit by climate change\n",
      "Gold's price plunges from record highs: How to take advantage now\n",
      "Gold prices fall to lowest level in a month\n",
      "Gold, prices, and jobs: What's at stake in Ghana's elections?\n",
      "How gold prices reflect inflation expectations\n",
      "3 reasons why surging gold prices will climb another 8% by the end of 2025, Goldman says\n",
      "Gold Prices Plunge As Trump Triumphs: What's Next For XAU/USD?\n",
      "Today Gold Rate 13-11-2024: Check latest prices in your city\n",
      "Should gold investors add more to their portfolio as the price rises?\n",
      "Will gold's price fall after this week's Fed rate cut?\n",
      "Gold prices set for second straight weekly fall\n",
      "Gold regains ground on dollar's retreat as markets await Fed rate decision\n",
      "Gold holds firm after US Fed rate cut, softer dollar\n",
      "Cartier owner Richemont cautious on hiking jewellery prices despite high gold prices\n",
      "Gold rises as traders brace for Fed rate decision\n",
      "Gold slips Rs 50 to Rs 77,750 per 10 gm; silver climbs Rs 1,200\n",
      "Gold Price Today: Yellow metal prices continue their fall, tumble by Rs 2,000/10g this week\n",
      "Gold price falls ₹1,750 to ₹77,800 per 10 grams amid weak jewellers demand; Silver down ₹2,700\n",
      "Gold price slumps after Trump victory\n",
      "Costco Gold Bars: Price Guide and What to Know\n",
      "Gold Price Loses Momentum - Factors\n",
      "Kerala Gold Rate November 12 2024: Price of 8 gram gold DROPS below Rs 57,000; check details\n",
      "AngloGold Ashanti Q3 earnings rebound on higher gold price\n",
      "Gold falls for second session on higher dollar, risk appetite\n",
      "Gold Prices Continue Fall to Start Week\n",
      "Gold prices break a new record, but may be near a peak\n",
      "Gold prices flat, focus on US inflation print\n",
      "Gold Prices on the Rise: Will Demand Push New Highs in 2025?\n",
      "Gold Price Today: Yellow metal prices fall by Rs 4,200/10 gm in 2 weeks, silver down by Rs 8,300/kg\n",
      "Vietnam gold ring price inches down as global bullion values rise\n",
      "Here’s How President-Elect Trump Could Impact Gold Prices\n",
      "Bengaluru GOLD rate on November 13, 2024: Check latest prices for 22k, 24k gold\n",
      "Gold price today: Rates fall almost 1% on dollar's rise; experts highlight key levels for MCX Gold rate\n",
      "Why gold prices are falling despite a Fed rate cut this week\n",
      "Dubai gold prices drop further; lose Dh8 per gram so far this week\n",
      "Gold futures rise Rs 115 to Rs 75,016/10g\n",
      "Silver Price Drops 5%, Gold Price Loses 3% as Trump Wins the Elections\n",
      "Gold hastens retreat as dollar rallies on Trump victory\n",
      "Gold ETFs witness record inflow of Rs 1,961 cr in Oct\n",
      "Gold Price Today: Yellow metal prices fall by Rs 500/10 gm, silver trades flat\n",
      "Gold prices edge higher ahead of US payrolls data\n",
      "Gold Rates Today in India\n",
      "Gold Prices Drop ₹450 To ₹79,550 Amid Strong Dollar And Rising US Bond Yields\n",
      "Gold declines Rs 450 to Rs 79,550 per 10 grams; silver plunges Rs 600\n",
      "Business News LIVE Updates Today November 13, 2024: Today Gold Rate 13-11-2024: Check latest prices in your city\n",
      "Gold prices dip amid global decline\n",
      "Gold Rate Today (as on 11-11, 2024)\n",
      "Resources Top 5: Explorers desperate to drill as gold prices ride high\n",
      "Gold price today: Gold is down 0.07% today\n",
      "Gold, silver prices in Hyderabad drop to one-month low amid wedding season\n",
      "Sovereign Gold Bond: Final redemption price of SGB 2016-17 Series III announced; check details\n",
      "Gold price today: Gold is down 0.27% today\n",
      "Gold and silver prices rise after profit-taking\n",
      "Gold Prices Fall To Rs 77,000 Per 10 Grams; Silver Below Rs 91,000 Per Kg\n",
      "Gold prices rise after US nonfarm payrolls\n",
      "Gold rate today: Yellow metal trades near 1-month low, silver slips below ₹90,000 per kg\n",
      "Trump impact: How has outlook for gold changed after US elections?\n",
      "Gold prices likely to see volatility next week due to US election, Fed policy decision, say experts\n",
      "Gold price today: Gold is trading at $2,754.27\n",
      "Kerala Gold Rate November 8 2024: Price of 8 gram gold RISES significantly; check details\n",
      "Best gold stocks in 2024\n",
      "What is the price of gold today?\n",
      "US Elections 2024: Gold Prices Up As American Voters Hit Ballots\n",
      "Gold prices lack fresh triggers; what should be your near-term strategy for yellow metal?\n",
      "Gold prices rise as dollar, yields fall after US nonfarm payrolls\n",
      "2 ways to build long-term wealth by investing in gold, as prices soar\n",
      "Gold prices are at record highs but explorers unable to attract investment\n",
      "Gold Rate Today 04-11-2024: Check latest prices in your city\n",
      "Gold prices head lower for a second straight week\n",
      "Resources Top 5: Record gold prices send juniors flying into development mode\n",
      "US Election 2024: How Gold Prices Are Trading In India On The D-Day? Check Latest Rates\n",
      "Can gold continue its momentum amid another interest rate cut?\n",
      "Gold prices slump in early Monday trading while bitcoin surges\n",
      "Gold Price Today: Yellow metal prices fall by Rs 2,100/10 gm in 2 days, silver down by Rs 4,050/kg\n",
      "Gold prices remain flat ahead of election\n",
      "Kerala Gold Rate November 9, 2024: Price of 8 gram gold DROPS; Check\n",
      "Barrick Gold Corp\n",
      "Best ETFs in India: Top 7 gold Exchange-Traded Funds to consider for long-term investment. See full list here\n",
      "Gold Prices Could Glitter More Even After Diwali, Thanks To These Two Reasons\n",
      "Best Gold Stocks Right Now\n",
      "Today's Gold Price in India\n",
      "Kerala Gold Rate November 6 2024: Price of 8 gram gold RISES; check details\n",
      "Gold prices flat as market awaits US election outcome\n",
      "Gold price today: MCX Gold rate today hits record high; what should be your strategy for yellow metal?\n",
      "Gold Rate Today in Ahmedabad\n",
      "GOLD RATE IN INDIA\n",
      "A Timeline Of U.S. Presidential Terms And Gold Prices\n",
      "Gold price\n",
      "Gold Rate Today in Jaipur\n",
      "Gold Rate Today in Pune\n",
      "Kerala Gold Rate November 5 2024: Gold price of 8 gram DROPS; check details\n",
      "Gold prices smash another record: What gold assets should you buy now?\n",
      "Why are gold prices hitting record highs?\n",
      "Current Price of Gold Today\n",
      "Gold prices rise to all-time highs with US debt mounting, election uncertainty\n",
      "Gold price today: Gold is trading at $2,731.69\n",
      "Gold prices hover near record peak on US election jitters\n",
      "Gold price today: Gold is trading at $2,681.81\n",
      "Gold prices have surged in 2024. Here’s how to get in on the gold rush\n",
      "Gold Rate Today in Coimbatore\n",
      "Gold Rate Today in Bhubaneswar\n",
      "Gold prices are closing in on $2,800. Should you buy in now?\n",
      "Gold price today: Gold is down 0.06% today\n",
      "Gold price today: Gold is trading at $2,648.31\n",
      "Gold price today: Gold is trading at $2,651.48\n",
      "Gold prices have surged in 2024. Here’s how to get in on the gold rush\n",
      "Will the price of gold hit $3,000 in 2024? Here's what experts think.\n",
      "Gold Price Soars to All-Time High Ahead of Election\n",
      "Here's how interest rates impact gold prices\n",
      "Should you wait for the price of gold to fall to invest? Experts weigh in\n",
      "Gold prices have surged in 2024. Here's how to get in on the gold rush\n",
      "Gold and silver prices: What to know going into November\n",
      "barrick gold corp. - GOLD\n",
      "Why are gold prices hitting record highs?\n",
      "Current Price of Silver Today (Canada Dollar)\n",
      "Gold prices have surged in 2024. Here’s how to get in on the gold rush\n",
      "Gold prices have surged in 2024. Here’s how to get in on the gold rush\n",
      "Gold prices have surged in 2024. Here’s how to get in on the gold rush\n",
      "Gold gains on lower yields, traders await more US data\n",
      "Why are gold prices hitting record highs?\n",
      "Gold Price Soars to All-Time High Ahead of Election\n",
      "Gold prices have surged in 2024. Here’s how to get in on the gold rush\n",
      "Why are gold prices hitting record highs?\n",
      "Gold price stands firm near record high, above $2,700 amid global monetary easing cycle\n",
      "Why is the price of gold so high right now?\n",
      "Latest Gold Price Forecast & Predictions\n",
      "Gold Price Update: Q3 2024 in Review\n",
      "Gold edges lower as US dollar rally curbs upside\n",
      "India Gold price today: Gold falls, according to FXStreet data\n",
      "Gold rate in Delhi Today (as on 12-11, 2024)\n",
      "Why Is Gold Price Increasing In India In 2024?\n",
      "India Gold price today: Gold steadies, according to FXStreet data\n",
      "Gold hits record highs on US election uncertainty, more policy easing\n",
      "Gold prices surge to all-time high on Friday as rate cut, US election uncertainties drive investors to the safe haven asset\n",
      "Gold Price Forecast – A Brief Pause Before Shattering $2,800\n",
      "Gold Price Smashes Through $2700/Oz - Further Gains Ahead?\n",
      "Gold Price Forecast: XAU/USD captures $2,700 for first time ever, what’s next?\n",
      "Gold touches record peak on US election jitters, Middle East woes\n",
      "Gold's Recent Record Run May Be Tempting—What to Know Before Investing\n",
      "Current Price of Gold Today (Malaysia Ringgit)\n",
      "Gold price today: Yellow metal declines as US dollar rises to 2-month high; here’s experts’ strategy for MCX Gold\n",
      "Gold rate in Mumbai Today (as on 12-11, 2024)\n",
      "How high will gold prices climb this October? Here's what experts think\n",
      "Gold Hits New All-Time High of $2,546: What’s Driving the Surge?\n",
      "Gold Is Doing a Rare Thing. 5 Things to Know Before You Buy.\n",
      "Gold hits record highs on US election uncertainty, more policy easing\n",
      "Most banks expect gold's bull run to persist into 2025\n",
      "What’s driving gold prices? Check out this chart\n",
      "High Gold Prices Are About the Dollar, but Recession Fears Can't Be Ruled Out\n",
      "Dhanteras 2024: MCX Gold rate moves up; will Samvat 2081 bring more shine to the yellow metal?\n",
      "Gold price scales $2,800 amid US election uncertainty\n",
      "Sandstorm Gold Offers Unique Growth Potential Amid Record Gold Prices\n",
      "Gold Prices Hit All-Time High. Why More Big Moves Could Come Soon.\n",
      "Gold Prices Hit New Intraday Record Above $2,100\n",
      "Gold vs. Silver: Which Is The Better Investment?\n",
      "How much gold is there left to mine in the world?\n",
      "Is Gold a Good Investment Right Now?\n",
      "How a Harris Win in the Election Could Affect Gold Prices\n",
      "How To Sell Gold: A Step by Step Guide on Selling Your Gold\n",
      "Gold Rate Today 07-10-2024: Check latest prices in your city\n",
      "Gold Prices Expected to Keep Rising in 2024\n",
      "How Much Will I Get if I Sell My Gold: Gold Valuation 101\n",
      "Gold's price is plunging. Is this the right time to buy in?\n",
      "Gold's weakness is helping to build a foundation under current prices: Wheaton CEO Randy Smallwood\n",
      "Will GOLD & SILVER Prices Rebound? | Lobo Tiggre\n",
      "Gold Price Today\n",
      "European mining stocks plunge as metal prices tumble\n",
      "Price of gold in Pakistan climbs back up\n",
      "Barrick Gold Q3 preview: Profit likely to see double-digit growth aided by higher prices\n",
      "Best gold ETFs of 2024\n",
      "Bitcoin price surpasses 1kg of gold as value climbs to record levels\n",
      "Gold, silver price today, November 12, 2024: Precious metals record hike on MCX\n",
      "Gold Futures Drop on Hedge-Fund Selloffs, Waning Rate-Cut Hopes\n",
      "Gold's price soars past a record $2,700: Why you should invest right now\n",
      "The Real Price of Gold\n",
      "8 Things to Know Before You Invest in Gold\n",
      "Where to buy gold bars and coins\n",
      "What Is the Gold Standard? History and Collapse\n"
     ]
    }
   ],
   "source": [
    "result = []\n",
    "for title in titles:\n",
    "  result.append(title.text)\n",
    "  print(title.text)"
   ]
  },
  {
   "cell_type": "code",
   "execution_count": 87,
   "metadata": {
    "executionInfo": {
     "elapsed": 295,
     "status": "ok",
     "timestamp": 1731508252000,
     "user": {
      "displayName": "Enes S.",
      "userId": "08878212082155021921"
     },
     "user_tz": -60
    },
    "id": "27lhU-AL7r0p"
   },
   "outputs": [],
   "source": [
    "bing_df = pd.DataFrame(result)"
   ]
  },
  {
   "cell_type": "code",
   "execution_count": 88,
   "metadata": {
    "colab": {
     "base_uri": "https://localhost:8080/",
     "height": 423
    },
    "executionInfo": {
     "elapsed": 425,
     "status": "ok",
     "timestamp": 1731508260338,
     "user": {
      "displayName": "Enes S.",
      "userId": "08878212082155021921"
     },
     "user_tz": -60
    },
    "id": "c73XT-FT7ypK",
    "outputId": "536668ce-e4b8-4320-9c78-7e8adc0ba697"
   },
   "outputs": [
    {
     "data": {
      "application/vnd.google.colaboratory.intrinsic+json": {
       "summary": "{\n  \"name\": \"bing_df\",\n  \"rows\": 178,\n  \"fields\": [\n    {\n      \"column\": 0,\n      \"properties\": {\n        \"dtype\": \"string\",\n        \"num_unique_values\": 168,\n        \"samples\": [\n          \"What\\u2019s driving gold prices? Check out this chart\",\n          \"Here\\u2019s How President-Elect Trump Could Impact Gold Prices\",\n          \"India Gold price today: Gold falls, according to FXStreet data\"\n        ],\n        \"semantic_type\": \"\",\n        \"description\": \"\"\n      }\n    }\n  ]\n}",
       "type": "dataframe",
       "variable_name": "bing_df"
      },
      "text/html": [
       "\n",
       "  <div id=\"df-4acab808-92d5-4480-a489-9496958effd5\" class=\"colab-df-container\">\n",
       "    <div>\n",
       "<style scoped>\n",
       "    .dataframe tbody tr th:only-of-type {\n",
       "        vertical-align: middle;\n",
       "    }\n",
       "\n",
       "    .dataframe tbody tr th {\n",
       "        vertical-align: top;\n",
       "    }\n",
       "\n",
       "    .dataframe thead th {\n",
       "        text-align: right;\n",
       "    }\n",
       "</style>\n",
       "<table border=\"1\" class=\"dataframe\">\n",
       "  <thead>\n",
       "    <tr style=\"text-align: right;\">\n",
       "      <th></th>\n",
       "      <th>0</th>\n",
       "    </tr>\n",
       "  </thead>\n",
       "  <tbody>\n",
       "    <tr>\n",
       "      <th>0</th>\n",
       "      <td>IMF urged to cash in on gold price to help poo...</td>\n",
       "    </tr>\n",
       "    <tr>\n",
       "      <th>1</th>\n",
       "      <td>Gold's price plunges from record highs: How to...</td>\n",
       "    </tr>\n",
       "    <tr>\n",
       "      <th>2</th>\n",
       "      <td>Gold prices fall to lowest level in a month</td>\n",
       "    </tr>\n",
       "    <tr>\n",
       "      <th>3</th>\n",
       "      <td>Gold, prices, and jobs: What's at stake in Gha...</td>\n",
       "    </tr>\n",
       "    <tr>\n",
       "      <th>4</th>\n",
       "      <td>How gold prices reflect inflation expectations</td>\n",
       "    </tr>\n",
       "    <tr>\n",
       "      <th>...</th>\n",
       "      <td>...</td>\n",
       "    </tr>\n",
       "    <tr>\n",
       "      <th>173</th>\n",
       "      <td>Gold's price soars past a record $2,700: Why y...</td>\n",
       "    </tr>\n",
       "    <tr>\n",
       "      <th>174</th>\n",
       "      <td>The Real Price of Gold</td>\n",
       "    </tr>\n",
       "    <tr>\n",
       "      <th>175</th>\n",
       "      <td>8 Things to Know Before You Invest in Gold</td>\n",
       "    </tr>\n",
       "    <tr>\n",
       "      <th>176</th>\n",
       "      <td>Where to buy gold bars and coins</td>\n",
       "    </tr>\n",
       "    <tr>\n",
       "      <th>177</th>\n",
       "      <td>What Is the Gold Standard? History and Collapse</td>\n",
       "    </tr>\n",
       "  </tbody>\n",
       "</table>\n",
       "<p>178 rows × 1 columns</p>\n",
       "</div>\n",
       "    <div class=\"colab-df-buttons\">\n",
       "\n",
       "  <div class=\"colab-df-container\">\n",
       "    <button class=\"colab-df-convert\" onclick=\"convertToInteractive('df-4acab808-92d5-4480-a489-9496958effd5')\"\n",
       "            title=\"Convert this dataframe to an interactive table.\"\n",
       "            style=\"display:none;\">\n",
       "\n",
       "  <svg xmlns=\"http://www.w3.org/2000/svg\" height=\"24px\" viewBox=\"0 -960 960 960\">\n",
       "    <path d=\"M120-120v-720h720v720H120Zm60-500h600v-160H180v160Zm220 220h160v-160H400v160Zm0 220h160v-160H400v160ZM180-400h160v-160H180v160Zm440 0h160v-160H620v160ZM180-180h160v-160H180v160Zm440 0h160v-160H620v160Z\"/>\n",
       "  </svg>\n",
       "    </button>\n",
       "\n",
       "  <style>\n",
       "    .colab-df-container {\n",
       "      display:flex;\n",
       "      gap: 12px;\n",
       "    }\n",
       "\n",
       "    .colab-df-convert {\n",
       "      background-color: #E8F0FE;\n",
       "      border: none;\n",
       "      border-radius: 50%;\n",
       "      cursor: pointer;\n",
       "      display: none;\n",
       "      fill: #1967D2;\n",
       "      height: 32px;\n",
       "      padding: 0 0 0 0;\n",
       "      width: 32px;\n",
       "    }\n",
       "\n",
       "    .colab-df-convert:hover {\n",
       "      background-color: #E2EBFA;\n",
       "      box-shadow: 0px 1px 2px rgba(60, 64, 67, 0.3), 0px 1px 3px 1px rgba(60, 64, 67, 0.15);\n",
       "      fill: #174EA6;\n",
       "    }\n",
       "\n",
       "    .colab-df-buttons div {\n",
       "      margin-bottom: 4px;\n",
       "    }\n",
       "\n",
       "    [theme=dark] .colab-df-convert {\n",
       "      background-color: #3B4455;\n",
       "      fill: #D2E3FC;\n",
       "    }\n",
       "\n",
       "    [theme=dark] .colab-df-convert:hover {\n",
       "      background-color: #434B5C;\n",
       "      box-shadow: 0px 1px 3px 1px rgba(0, 0, 0, 0.15);\n",
       "      filter: drop-shadow(0px 1px 2px rgba(0, 0, 0, 0.3));\n",
       "      fill: #FFFFFF;\n",
       "    }\n",
       "  </style>\n",
       "\n",
       "    <script>\n",
       "      const buttonEl =\n",
       "        document.querySelector('#df-4acab808-92d5-4480-a489-9496958effd5 button.colab-df-convert');\n",
       "      buttonEl.style.display =\n",
       "        google.colab.kernel.accessAllowed ? 'block' : 'none';\n",
       "\n",
       "      async function convertToInteractive(key) {\n",
       "        const element = document.querySelector('#df-4acab808-92d5-4480-a489-9496958effd5');\n",
       "        const dataTable =\n",
       "          await google.colab.kernel.invokeFunction('convertToInteractive',\n",
       "                                                    [key], {});\n",
       "        if (!dataTable) return;\n",
       "\n",
       "        const docLinkHtml = 'Like what you see? Visit the ' +\n",
       "          '<a target=\"_blank\" href=https://colab.research.google.com/notebooks/data_table.ipynb>data table notebook</a>'\n",
       "          + ' to learn more about interactive tables.';\n",
       "        element.innerHTML = '';\n",
       "        dataTable['output_type'] = 'display_data';\n",
       "        await google.colab.output.renderOutput(dataTable, element);\n",
       "        const docLink = document.createElement('div');\n",
       "        docLink.innerHTML = docLinkHtml;\n",
       "        element.appendChild(docLink);\n",
       "      }\n",
       "    </script>\n",
       "  </div>\n",
       "\n",
       "\n",
       "<div id=\"df-cc48e517-a7d5-4b45-9f52-2251de8510e9\">\n",
       "  <button class=\"colab-df-quickchart\" onclick=\"quickchart('df-cc48e517-a7d5-4b45-9f52-2251de8510e9')\"\n",
       "            title=\"Suggest charts\"\n",
       "            style=\"display:none;\">\n",
       "\n",
       "<svg xmlns=\"http://www.w3.org/2000/svg\" height=\"24px\"viewBox=\"0 0 24 24\"\n",
       "     width=\"24px\">\n",
       "    <g>\n",
       "        <path d=\"M19 3H5c-1.1 0-2 .9-2 2v14c0 1.1.9 2 2 2h14c1.1 0 2-.9 2-2V5c0-1.1-.9-2-2-2zM9 17H7v-7h2v7zm4 0h-2V7h2v10zm4 0h-2v-4h2v4z\"/>\n",
       "    </g>\n",
       "</svg>\n",
       "  </button>\n",
       "\n",
       "<style>\n",
       "  .colab-df-quickchart {\n",
       "      --bg-color: #E8F0FE;\n",
       "      --fill-color: #1967D2;\n",
       "      --hover-bg-color: #E2EBFA;\n",
       "      --hover-fill-color: #174EA6;\n",
       "      --disabled-fill-color: #AAA;\n",
       "      --disabled-bg-color: #DDD;\n",
       "  }\n",
       "\n",
       "  [theme=dark] .colab-df-quickchart {\n",
       "      --bg-color: #3B4455;\n",
       "      --fill-color: #D2E3FC;\n",
       "      --hover-bg-color: #434B5C;\n",
       "      --hover-fill-color: #FFFFFF;\n",
       "      --disabled-bg-color: #3B4455;\n",
       "      --disabled-fill-color: #666;\n",
       "  }\n",
       "\n",
       "  .colab-df-quickchart {\n",
       "    background-color: var(--bg-color);\n",
       "    border: none;\n",
       "    border-radius: 50%;\n",
       "    cursor: pointer;\n",
       "    display: none;\n",
       "    fill: var(--fill-color);\n",
       "    height: 32px;\n",
       "    padding: 0;\n",
       "    width: 32px;\n",
       "  }\n",
       "\n",
       "  .colab-df-quickchart:hover {\n",
       "    background-color: var(--hover-bg-color);\n",
       "    box-shadow: 0 1px 2px rgba(60, 64, 67, 0.3), 0 1px 3px 1px rgba(60, 64, 67, 0.15);\n",
       "    fill: var(--button-hover-fill-color);\n",
       "  }\n",
       "\n",
       "  .colab-df-quickchart-complete:disabled,\n",
       "  .colab-df-quickchart-complete:disabled:hover {\n",
       "    background-color: var(--disabled-bg-color);\n",
       "    fill: var(--disabled-fill-color);\n",
       "    box-shadow: none;\n",
       "  }\n",
       "\n",
       "  .colab-df-spinner {\n",
       "    border: 2px solid var(--fill-color);\n",
       "    border-color: transparent;\n",
       "    border-bottom-color: var(--fill-color);\n",
       "    animation:\n",
       "      spin 1s steps(1) infinite;\n",
       "  }\n",
       "\n",
       "  @keyframes spin {\n",
       "    0% {\n",
       "      border-color: transparent;\n",
       "      border-bottom-color: var(--fill-color);\n",
       "      border-left-color: var(--fill-color);\n",
       "    }\n",
       "    20% {\n",
       "      border-color: transparent;\n",
       "      border-left-color: var(--fill-color);\n",
       "      border-top-color: var(--fill-color);\n",
       "    }\n",
       "    30% {\n",
       "      border-color: transparent;\n",
       "      border-left-color: var(--fill-color);\n",
       "      border-top-color: var(--fill-color);\n",
       "      border-right-color: var(--fill-color);\n",
       "    }\n",
       "    40% {\n",
       "      border-color: transparent;\n",
       "      border-right-color: var(--fill-color);\n",
       "      border-top-color: var(--fill-color);\n",
       "    }\n",
       "    60% {\n",
       "      border-color: transparent;\n",
       "      border-right-color: var(--fill-color);\n",
       "    }\n",
       "    80% {\n",
       "      border-color: transparent;\n",
       "      border-right-color: var(--fill-color);\n",
       "      border-bottom-color: var(--fill-color);\n",
       "    }\n",
       "    90% {\n",
       "      border-color: transparent;\n",
       "      border-bottom-color: var(--fill-color);\n",
       "    }\n",
       "  }\n",
       "</style>\n",
       "\n",
       "  <script>\n",
       "    async function quickchart(key) {\n",
       "      const quickchartButtonEl =\n",
       "        document.querySelector('#' + key + ' button');\n",
       "      quickchartButtonEl.disabled = true;  // To prevent multiple clicks.\n",
       "      quickchartButtonEl.classList.add('colab-df-spinner');\n",
       "      try {\n",
       "        const charts = await google.colab.kernel.invokeFunction(\n",
       "            'suggestCharts', [key], {});\n",
       "      } catch (error) {\n",
       "        console.error('Error during call to suggestCharts:', error);\n",
       "      }\n",
       "      quickchartButtonEl.classList.remove('colab-df-spinner');\n",
       "      quickchartButtonEl.classList.add('colab-df-quickchart-complete');\n",
       "    }\n",
       "    (() => {\n",
       "      let quickchartButtonEl =\n",
       "        document.querySelector('#df-cc48e517-a7d5-4b45-9f52-2251de8510e9 button');\n",
       "      quickchartButtonEl.style.display =\n",
       "        google.colab.kernel.accessAllowed ? 'block' : 'none';\n",
       "    })();\n",
       "  </script>\n",
       "</div>\n",
       "    </div>\n",
       "  </div>\n"
      ],
      "text/plain": [
       "                                                     0\n",
       "0    IMF urged to cash in on gold price to help poo...\n",
       "1    Gold's price plunges from record highs: How to...\n",
       "2          Gold prices fall to lowest level in a month\n",
       "3    Gold, prices, and jobs: What's at stake in Gha...\n",
       "4       How gold prices reflect inflation expectations\n",
       "..                                                 ...\n",
       "173  Gold's price soars past a record $2,700: Why y...\n",
       "174                             The Real Price of Gold\n",
       "175         8 Things to Know Before You Invest in Gold\n",
       "176                   Where to buy gold bars and coins\n",
       "177    What Is the Gold Standard? History and Collapse\n",
       "\n",
       "[178 rows x 1 columns]"
      ]
     },
     "execution_count": 88,
     "metadata": {},
     "output_type": "execute_result"
    }
   ],
   "source": [
    "bing_df"
   ]
  },
  {
   "cell_type": "code",
   "execution_count": 90,
   "metadata": {
    "executionInfo": {
     "elapsed": 270,
     "status": "ok",
     "timestamp": 1731508336166,
     "user": {
      "displayName": "Enes S.",
      "userId": "08878212082155021921"
     },
     "user_tz": -60
    },
    "id": "xRBLilJy8C7I"
   },
   "outputs": [],
   "source": [
    "bing_df = bing_df.rename(columns={0: 'Title'})"
   ]
  },
  {
   "cell_type": "code",
   "execution_count": 91,
   "metadata": {
    "executionInfo": {
     "elapsed": 269,
     "status": "ok",
     "timestamp": 1731508339190,
     "user": {
      "displayName": "Enes S.",
      "userId": "08878212082155021921"
     },
     "user_tz": -60
    },
    "id": "pnjYFV6S8C7J"
   },
   "outputs": [],
   "source": [
    "bing_df = bing_df.drop_duplicates(subset=['Title'])"
   ]
  },
  {
   "cell_type": "code",
   "execution_count": 92,
   "metadata": {
    "colab": {
     "base_uri": "https://localhost:8080/"
    },
    "executionInfo": {
     "elapsed": 305,
     "status": "ok",
     "timestamp": 1731508345528,
     "user": {
      "displayName": "Enes S.",
      "userId": "08878212082155021921"
     },
     "user_tz": -60
    },
    "id": "erPvHflc8H9P",
    "outputId": "ab8d7eb5-af37-4b58-c317-637d1ceb5791"
   },
   "outputs": [
    {
     "data": {
      "text/plain": [
       "168"
      ]
     },
     "execution_count": 92,
     "metadata": {},
     "output_type": "execute_result"
    }
   ],
   "source": [
    "len(bing_df)"
   ]
  },
  {
   "cell_type": "code",
   "execution_count": 144,
   "metadata": {
    "executionInfo": {
     "elapsed": 274,
     "status": "ok",
     "timestamp": 1731511132612,
     "user": {
      "displayName": "Enes S.",
      "userId": "08878212082155021921"
     },
     "user_tz": -60
    },
    "id": "jn6h9CRi8JXz"
   },
   "outputs": [],
   "source": [
    "path = '/content/drive/MyDrive/praksa_manu/bing_news_data.csv'\n",
    "bing_df.to_csv(path, index=False)"
   ]
  },
  {
   "cell_type": "markdown",
   "metadata": {
    "id": "LhN5Vq8Q963k"
   },
   "source": [
    "### Scraping data from Brave.com"
   ]
  },
  {
   "cell_type": "code",
   "execution_count": 107,
   "metadata": {
    "executionInfo": {
     "elapsed": 291,
     "status": "ok",
     "timestamp": 1731509537265,
     "user": {
      "displayName": "Enes S.",
      "userId": "08878212082155021921"
     },
     "user_tz": -60
    },
    "id": "jaSyd1r1_BZj"
   },
   "outputs": [],
   "source": [
    "chrome_options = Options()\n",
    "chrome_options.add_argument(\"--disable-gpu\")\n",
    "chrome_options.add_argument(\"--no-sandbox\")\n",
    "chrome_options.add_argument(\"--headless\")"
   ]
  },
  {
   "cell_type": "code",
   "execution_count": 132,
   "metadata": {
    "executionInfo": {
     "elapsed": 918,
     "status": "ok",
     "timestamp": 1731510636490,
     "user": {
      "displayName": "Enes S.",
      "userId": "08878212082155021921"
     },
     "user_tz": -60
    },
    "id": "c02a-yvF_BZj"
   },
   "outputs": [],
   "source": [
    "driver = webdriver.Chrome(options=chrome_options)"
   ]
  },
  {
   "cell_type": "code",
   "execution_count": 133,
   "metadata": {
    "executionInfo": {
     "elapsed": 7,
     "status": "ok",
     "timestamp": 1731510636490,
     "user": {
      "displayName": "Enes S.",
      "userId": "08878212082155021921"
     },
     "user_tz": -60
    },
    "id": "_H7cDFCz-U_P"
   },
   "outputs": [],
   "source": [
    "result = []"
   ]
  },
  {
   "cell_type": "code",
   "execution_count": 134,
   "metadata": {
    "executionInfo": {
     "elapsed": 9,
     "status": "ok",
     "timestamp": 1731510636780,
     "user": {
      "displayName": "Enes S.",
      "userId": "08878212082155021921"
     },
     "user_tz": -60
    },
    "id": "0a8aRYksEccq"
   },
   "outputs": [],
   "source": [
    "links = ['https://search.brave.com/news?q=gold+prices+&source=web',\n",
    "         'https://search.brave.com/news?q=gold%20prices%20&offset=1&spellcheck=0',\n",
    "         'https://search.brave.com/news?q=gold%20prices%20&offset=2&spellcheck=0']"
   ]
  },
  {
   "cell_type": "code",
   "execution_count": 135,
   "metadata": {
    "colab": {
     "base_uri": "https://localhost:8080/"
    },
    "executionInfo": {
     "elapsed": 14834,
     "status": "ok",
     "timestamp": 1731510652285,
     "user": {
      "displayName": "Enes S.",
      "userId": "08878212082155021921"
     },
     "user_tz": -60
    },
    "id": "B7u5QZ-2-CbZ",
    "outputId": "0d68ea6f-0fba-41ff-9137-f93f6025e441"
   },
   "outputs": [
    {
     "name": "stdout",
     "output_type": "stream",
     "text": [
      "**************************************\n",
      "SCRAPING PAGE  1\n",
      "SCRAPED 50 MORE ITEMS, TOTAL ITEM COUNT: 50\n",
      "**************************************\n",
      "SCRAPING PAGE  2\n",
      "SCRAPED 50 MORE ITEMS, TOTAL ITEM COUNT: 100\n",
      "**************************************\n",
      "SCRAPING PAGE  3\n",
      "SCRAPED 50 MORE ITEMS, TOTAL ITEM COUNT: 150\n"
     ]
    }
   ],
   "source": [
    "i = 1\n",
    "for link in links:\n",
    "  print('**************************************')\n",
    "  time.sleep(3)\n",
    "  print(f'SCRAPING PAGE  {i}')\n",
    "  driver.get(link)\n",
    "  news_titles = driver.find_elements(By.CLASS_NAME, 'snippet-title')\n",
    "  for item in news_titles:\n",
    "    result.append(item.text)\n",
    "  print(f'SCRAPED {len(news_titles)} MORE ITEMS, TOTAL ITEM COUNT: {len(result)}')\n",
    "  i += 1"
   ]
  },
  {
   "cell_type": "code",
   "execution_count": 136,
   "metadata": {
    "colab": {
     "base_uri": "https://localhost:8080/"
    },
    "executionInfo": {
     "elapsed": 299,
     "status": "ok",
     "timestamp": 1731510660848,
     "user": {
      "displayName": "Enes S.",
      "userId": "08878212082155021921"
     },
     "user_tz": -60
    },
    "id": "hyEiOA0yBlU2",
    "outputId": "f8ed652c-bd15-4143-d816-12c4da3018a5"
   },
   "outputs": [
    {
     "data": {
      "text/plain": [
       "150"
      ]
     },
     "execution_count": 136,
     "metadata": {},
     "output_type": "execute_result"
    }
   ],
   "source": [
    "len(result)"
   ]
  },
  {
   "cell_type": "code",
   "execution_count": 137,
   "metadata": {
    "executionInfo": {
     "elapsed": 271,
     "status": "ok",
     "timestamp": 1731510689053,
     "user": {
      "displayName": "Enes S.",
      "userId": "08878212082155021921"
     },
     "user_tz": -60
    },
    "id": "fTh4L_6fE-qS"
   },
   "outputs": [],
   "source": [
    "brave_df = pd.DataFrame(result)"
   ]
  },
  {
   "cell_type": "code",
   "execution_count": 138,
   "metadata": {
    "executionInfo": {
     "elapsed": 278,
     "status": "ok",
     "timestamp": 1731510732390,
     "user": {
      "displayName": "Enes S.",
      "userId": "08878212082155021921"
     },
     "user_tz": -60
    },
    "id": "W3GXfFb2FNd_"
   },
   "outputs": [],
   "source": [
    "brave_df = brave_df.rename(columns={0: 'Title'})"
   ]
  },
  {
   "cell_type": "code",
   "execution_count": 139,
   "metadata": {
    "executionInfo": {
     "elapsed": 279,
     "status": "ok",
     "timestamp": 1731510738373,
     "user": {
      "displayName": "Enes S.",
      "userId": "08878212082155021921"
     },
     "user_tz": -60
    },
    "id": "B5gj7vFXFNeA"
   },
   "outputs": [],
   "source": [
    "brave_df = brave_df.drop_duplicates(subset=['Title'])"
   ]
  },
  {
   "cell_type": "code",
   "execution_count": 140,
   "metadata": {
    "colab": {
     "base_uri": "https://localhost:8080/"
    },
    "executionInfo": {
     "elapsed": 297,
     "status": "ok",
     "timestamp": 1731510748540,
     "user": {
      "displayName": "Enes S.",
      "userId": "08878212082155021921"
     },
     "user_tz": -60
    },
    "id": "N0nHI3ELFRsV",
    "outputId": "3666060e-af0d-43f3-fc1d-23a864f6078e"
   },
   "outputs": [
    {
     "data": {
      "text/plain": [
       "150"
      ]
     },
     "execution_count": 140,
     "metadata": {},
     "output_type": "execute_result"
    }
   ],
   "source": [
    "len(brave_df)"
   ]
  },
  {
   "cell_type": "code",
   "execution_count": 145,
   "metadata": {
    "executionInfo": {
     "elapsed": 275,
     "status": "ok",
     "timestamp": 1731511171001,
     "user": {
      "displayName": "Enes S.",
      "userId": "08878212082155021921"
     },
     "user_tz": -60
    },
    "id": "7V1PnkmCFUHf"
   },
   "outputs": [],
   "source": [
    "path = '/content/drive/MyDrive/praksa_manu/brave_news_data.csv'\n",
    "brave_df.to_csv(path, index=False)"
   ]
  },
  {
   "cell_type": "markdown",
   "metadata": {
    "id": "786JZtE1FfvZ"
   },
   "source": [
    "### Combining the dataframes"
   ]
  },
  {
   "cell_type": "code",
   "execution_count": 146,
   "metadata": {
    "executionInfo": {
     "elapsed": 293,
     "status": "ok",
     "timestamp": 1731511185126,
     "user": {
      "displayName": "Enes S.",
      "userId": "08878212082155021921"
     },
     "user_tz": -60
    },
    "id": "cnA21Io2Fjuu"
   },
   "outputs": [],
   "source": [
    "data = pd.concat([yahoo_df, google_df, bing_df, brave_df], ignore_index=True)"
   ]
  },
  {
   "cell_type": "code",
   "execution_count": 147,
   "metadata": {
    "colab": {
     "base_uri": "https://localhost:8080/"
    },
    "executionInfo": {
     "elapsed": 23,
     "status": "ok",
     "timestamp": 1731511191261,
     "user": {
      "displayName": "Enes S.",
      "userId": "08878212082155021921"
     },
     "user_tz": -60
    },
    "id": "hQXlQZXyG-wY",
    "outputId": "2c3d59c7-84b7-4bb5-a1f6-d5296cae55b1"
   },
   "outputs": [
    {
     "data": {
      "text/plain": [
       "1219"
      ]
     },
     "execution_count": 147,
     "metadata": {},
     "output_type": "execute_result"
    }
   ],
   "source": [
    "len(data)"
   ]
  },
  {
   "cell_type": "code",
   "execution_count": 149,
   "metadata": {
    "executionInfo": {
     "elapsed": 299,
     "status": "ok",
     "timestamp": 1731511261436,
     "user": {
      "displayName": "Enes S.",
      "userId": "08878212082155021921"
     },
     "user_tz": -60
    },
    "id": "WuyWXOeaHAMJ"
   },
   "outputs": [],
   "source": [
    "path = '/content/drive/MyDrive/praksa_manu/financial_news.csv'\n",
    "data.to_csv(path, index=False)"
   ]
  }
 ],
 "metadata": {
  "colab": {
   "authorship_tag": "ABX9TyP8WTqRS6Filxf7ouk+vALq",
   "collapsed_sections": [
    "VuKj2Aiqlnww",
    "btsvcLY0lunb",
    "TNMvu-Jqxclv"
   ],
   "mount_file_id": "1Ed47r-1FzRc0UWn-Qr9lrNJcqnlsoKiA",
   "provenance": []
  },
  "kernelspec": {
   "display_name": "Python 3",
   "name": "python3"
  },
  "language_info": {
   "name": "python"
  }
 },
 "nbformat": 4,
 "nbformat_minor": 0
}
